{
 "cells": [
  {
   "attachments": {},
   "cell_type": "markdown",
   "metadata": {},
   "source": [
    "## Compute Table"
   ]
  },
  {
   "cell_type": "code",
   "execution_count": 35,
   "metadata": {
    "vscode": {
     "languageId": "python"
    }
   },
   "outputs": [
    {
     "name": "stdout",
     "output_type": "stream",
     "text": [
      "/home/riple/IPRA-exp/build/benchmarks\n"
     ]
    }
   ],
   "source": [
    "import os\n",
    "from IPython.display import HTML, display\n",
    "\n",
    "BASELINE = 'pgo-full'\n",
    "REG_PROFILE = ['dynamic push', 'dynamic pop', 'dynamic spill', 'dynamic reload']\n",
    "PERF_PROFILE = ['instructions', 'cycles', 'L1-icache-miss', 'L1-dcache-loads', 'L1-dcache-stores', 'time elapsed']\n",
    "VARANT = ['none'] + [\"{}-{}\".format(i, j) for i in [1,3,5,10] for j in [10, 20]]\n",
    "FDOIPRA = [b + 'fdoipra' + (str(i) if i != 1 else \"\") for i in range(1, 7) for b in [\"\", \"b\"]] \n",
    "METHODS = [BASELINE] + ['pgo-full-'+v for v in ['ipra']+FDOIPRA]\n",
    "\n",
    "def load_regprof3(content):\n",
    "    assert(len(content) == 4)\n",
    "    result = {}\n",
    "    for line in content:\n",
    "        if line.startswith('dynamic push: '):\n",
    "            result['dynamic push'] = int(line[14:])\n",
    "        if line.startswith('dynamic pop: '):\n",
    "            result['dynamic pop'] = int(line[13:])\n",
    "        if line.startswith('dynamic spill: '):\n",
    "            result['dynamic spill'] = int(line[15:])\n",
    "        if line.startswith('dynamic reload: '):\n",
    "            result['dynamic reload'] = int(line[16:])\n",
    "    return result\n",
    "\n",
    "def load_bench(content):\n",
    "    def get(line, key):\n",
    "        p = line.find(key)\n",
    "        if p != -1:\n",
    "            q = line.find('( +-')\n",
    "            qe = line[q:].find(')')\n",
    "            return True, line[:p].strip(), line[q+5:qe-1]\n",
    "        return False, None, None\n",
    "    result = {}\n",
    "    for line in content:\n",
    "        for c in PERF_PROFILE:\n",
    "            found, data, error = get(line, c)\n",
    "            if found:\n",
    "                if c == 'time elapsed':\n",
    "                    data = data.split()[0]\n",
    "                result[c] = (float(data), error)\n",
    "    return result\n",
    "\n",
    "class Benchmark:\n",
    "    def __init__(self, name):\n",
    "        self.name = name\n",
    "        self.results = {}\n",
    "        self.best_reg = {}\n",
    "        self.best_bench = {}\n",
    "    \n",
    "    def load(self, path, cases=['bench', 'regprof3']):\n",
    "        self.field = cases\n",
    "        filter = {\n",
    "            'bench': load_bench,\n",
    "            'regprof3': load_regprof3\n",
    "        }\n",
    "        for case in cases:\n",
    "            result = {}\n",
    "            files = [path+'/'+f for f in os.listdir(path) \n",
    "                        if os.path.isfile(path+'/'+f)]\n",
    "            for file in files:\n",
    "                if file.endswith('.'+case):\n",
    "                    with open(file, 'r') as f:\n",
    "                        _ , name = os.path.split(file)\n",
    "                        result[name[:-len(case)-1]] = filter[case](f.readlines())\n",
    "            if len(result) > 0:\n",
    "                self.results[case] = result\n",
    "        return len(self.results) != 0\n",
    "    \n",
    "    def get(self, key, method, var):\n",
    "        def get_value(value):\n",
    "            data, error = None, None\n",
    "            if type(value) is tuple:\n",
    "                data, error = value\n",
    "            else:\n",
    "                data = value\n",
    "            return data, error\n",
    "        try:\n",
    "            index = ''\n",
    "            if key in REG_PROFILE:\n",
    "                index = 'regprof3'\n",
    "            if key in PERF_PROFILE:\n",
    "                index = 'bench'\n",
    "            \n",
    "            if var == 'none':\n",
    "                return get_value(self.results[index][method][key])\n",
    "            return get_value(self.results[index][method+'.'+var][key])\n",
    "        except:\n",
    "            return None, None\n",
    "\n",
    "    def better(self, key, method, var):\n",
    "        base, _ = self.get(key, BASELINE, 'none')\n",
    "        impl, _ = self.get(key, method, var)\n",
    "        if base != None and impl != None:\n",
    "            return (impl - base) * 100 / base\n",
    "        else:\n",
    "            return None\n",
    "\n",
    "    def best(self, key, method):\n",
    "        if key in REG_PROFILE:\n",
    "            if method in self.best_reg:\n",
    "                return self.best_reg[method][key]\n",
    "            data = []\n",
    "            for var in VARANT:\n",
    "                improve = 0\n",
    "                detail = {}\n",
    "                for k in REG_PROFILE:\n",
    "                    if self.better(k, method, var) != None:\n",
    "                        improve += self.better(k, method, var)\n",
    "                        detail[k], _ = self.get(k, method, var)\n",
    "                if len(detail) > 0:\n",
    "                    data.append((improve, detail))\n",
    "            if len(data) == 0:\n",
    "                return None\n",
    "            _, result = min(data)\n",
    "            self.best_reg[method] = result\n",
    "            return self.best_reg[method][key]\n",
    "\n",
    "    def __str__(self) -> str:\n",
    "        s = self.name + ': \\n'\n",
    "        for case, data in self.results.items():\n",
    "            s += case\n",
    "            for j in data.keys():\n",
    "                s += (\"    \" + j)\n",
    "            s += '\\n'\n",
    "        return s\n",
    "\n",
    "def load_build_folder(build_folder = '../build/benchmarks/'):\n",
    "    \"\"\"Load a build folder and return a list of results\"\"\"\n",
    "    benchmarks = []\n",
    "    build_folder = os.path.abspath(build_folder)\n",
    "    print(build_folder)\n",
    "    folders = [f for f in os.listdir(build_folder) \n",
    "                        if os.path.isdir(f)]    \n",
    "    for folder in folders:\n",
    "        B = Benchmark(folder)\n",
    "        if B.load(build_folder+'/'+folder):\n",
    "            benchmarks.append(B)\n",
    "    return benchmarks\n",
    "\n",
    "def printTable(data, header=None, title=None, rowspan=0):\n",
    "    def gen_row(row, el='td'):\n",
    "        gen_row.counter += 1\n",
    "        if gen_row.counter == rowspan:\n",
    "            gen_row.counter = 0\n",
    "        tmp = '<'+el+'{}>{}</'+el+'>' \n",
    "        tmp2 = '</'+el+'><'+el+'>' \n",
    "        return tmp.format(\n",
    "            ' rowspan=\"'+str(rowspan)+'\"' if gen_row.counter==1 else \"\", \n",
    "            tmp2.join(str(_) for _ in row))\n",
    "    gen_row.counter = 0 if header == None else -1\n",
    "    display(HTML('<table><h2>{}</h2><tr>{}</tr></table>'.format(title,\n",
    "        (gen_row(header, 'th') + '</tr><tr>' if header else '') + \n",
    "            '</tr><tr>'.join(gen_row(row) for row in data))\n",
    "    ))\n",
    "\n",
    "Benchmarks = load_build_folder()\n",
    "\n",
    "# for bench in Benchmarks:\n",
    "#     print(bench)\n",
    "\n"
   ]
  },
  {
   "cell_type": "code",
   "execution_count": 36,
   "metadata": {
    "vscode": {
     "languageId": "python"
    }
   },
   "outputs": [],
   "source": [
    "\n",
    "def show_regprof(Bench: Benchmark, actions):\n",
    "    data = []\n",
    "    header = VARANT \n",
    "    for case in FDOIPRA:\n",
    "        for action in actions:\n",
    "            row = []\n",
    "            if action == actions[0]:\n",
    "                row.append(case)\n",
    "            row.append(action)\n",
    "            for var in header:\n",
    "                better = Bench.better(action, 'pgo-full-'+case, var)\n",
    "                if better == None:\n",
    "                    row.append('')\n",
    "                    continue\n",
    "                cell, _ = Bench.get(action, 'pgo-full-'+case, var)\n",
    "                row.append(\n",
    "                    \"{} (<span style='color: {};'>{:+.4}%</span>)\".format(\n",
    "                        cell,\n",
    "                        'red' if better >= 0 else 'green',\n",
    "                        better))\n",
    "            cell = Bench.best(action, 'pgo-full-'+case)\n",
    "            base, _ = Bench.get(action, BASELINE, 'none')\n",
    "            if cell==None or base == None:\n",
    "                row.append('')\n",
    "            else:\n",
    "                better = (cell - base) * 100 / base\n",
    "                row.append(\n",
    "                        \"{} (<span style='color: {};'>{:+.4}%</span>)\".format(\n",
    "                            cell, \n",
    "                            'red' if better >= 0 else 'green',\n",
    "                            better))\n",
    "            data.append(row)\n",
    "    printTable(data, ['', ''] + header + ['best'], Bench.name, len(actions))\n",
    "\n",
    "def show_regprof_summary(title, actions):\n",
    "    data = []\n",
    "    header = ['',''] + [Bench.name for Bench in Benchmarks]\n",
    "    for case in METHODS:\n",
    "        for action in actions:\n",
    "            row = []\n",
    "            if action == actions[0]:\n",
    "                row.append(case)\n",
    "            row.append(action)\n",
    "            for Bench in Benchmarks:\n",
    "                cell = Bench.best(action, case)\n",
    "                base, _ = Bench.get(action, BASELINE, 'none')\n",
    "                if cell==None or base == None:\n",
    "                    row.append('')\n",
    "                    continue\n",
    "                better = (cell - base) * 100 / base\n",
    "                row.append(\n",
    "                    \"{} (<span style='color: {};'>{:+.4}%</span>)\".format(\n",
    "                        cell, \n",
    "                        'red' if better >= 0 else 'green',\n",
    "                        better))\n",
    "            data.append(row)\n",
    "    printTable(data, header, title, len(actions))"
   ]
  },
  {
   "attachments": {},
   "cell_type": "markdown",
   "metadata": {},
   "source": [
    "## Push/Pop and Spill/Reload"
   ]
  },
  {
   "cell_type": "code",
   "execution_count": 37,
   "metadata": {
    "vscode": {
     "languageId": "python"
    }
   },
   "outputs": [
    {
     "data": {
      "text/html": [
       "<table><h2>Push and Push Counting</h2><tr><th></th><th></th><th>leveldb</th></tr><tr><td rowspan=\"2\">pgo-full</td><td>dynamic push</td><td></td></tr><tr><td>dynamic pop</td><td></td></tr><tr><td rowspan=\"2\">pgo-full-ipra</td><td>dynamic push</td><td></td></tr><tr><td>dynamic pop</td><td></td></tr><tr><td rowspan=\"2\">pgo-full-fdoipra</td><td>dynamic push</td><td></td></tr><tr><td>dynamic pop</td><td></td></tr><tr><td rowspan=\"2\">pgo-full-bfdoipra</td><td>dynamic push</td><td></td></tr><tr><td>dynamic pop</td><td></td></tr><tr><td rowspan=\"2\">pgo-full-fdoipra2</td><td>dynamic push</td><td></td></tr><tr><td>dynamic pop</td><td></td></tr><tr><td rowspan=\"2\">pgo-full-bfdoipra2</td><td>dynamic push</td><td></td></tr><tr><td>dynamic pop</td><td></td></tr><tr><td rowspan=\"2\">pgo-full-fdoipra3</td><td>dynamic push</td><td></td></tr><tr><td>dynamic pop</td><td></td></tr><tr><td rowspan=\"2\">pgo-full-bfdoipra3</td><td>dynamic push</td><td></td></tr><tr><td>dynamic pop</td><td></td></tr><tr><td rowspan=\"2\">pgo-full-fdoipra4</td><td>dynamic push</td><td></td></tr><tr><td>dynamic pop</td><td></td></tr><tr><td rowspan=\"2\">pgo-full-bfdoipra4</td><td>dynamic push</td><td></td></tr><tr><td>dynamic pop</td><td></td></tr><tr><td rowspan=\"2\">pgo-full-fdoipra5</td><td>dynamic push</td><td></td></tr><tr><td>dynamic pop</td><td></td></tr><tr><td rowspan=\"2\">pgo-full-bfdoipra5</td><td>dynamic push</td><td></td></tr><tr><td>dynamic pop</td><td></td></tr><tr><td rowspan=\"2\">pgo-full-fdoipra6</td><td>dynamic push</td><td></td></tr><tr><td>dynamic pop</td><td></td></tr><tr><td rowspan=\"2\">pgo-full-bfdoipra6</td><td>dynamic push</td><td></td></tr><tr><td>dynamic pop</td><td></td></tr></table>"
      ],
      "text/plain": [
       "<IPython.core.display.HTML object>"
      ]
     },
     "metadata": {},
     "output_type": "display_data"
    },
    {
     "data": {
      "text/html": [
       "<table><h2>leveldb</h2><tr><th></th><th></th><th>none</th><th>1-10</th><th>1-20</th><th>3-10</th><th>3-20</th><th>5-10</th><th>5-20</th><th>10-10</th><th>10-20</th><th>best</th></tr><tr><td rowspan=\"2\">fdoipra</td><td>dynamic push</td><td></td><td></td><td></td><td></td><td></td><td></td><td></td><td></td><td></td><td></td></tr><tr><td>dynamic pop</td><td></td><td></td><td></td><td></td><td></td><td></td><td></td><td></td><td></td><td></td></tr><tr><td rowspan=\"2\">bfdoipra</td><td>dynamic push</td><td></td><td></td><td></td><td></td><td></td><td></td><td></td><td></td><td></td><td></td></tr><tr><td>dynamic pop</td><td></td><td></td><td></td><td></td><td></td><td></td><td></td><td></td><td></td><td></td></tr><tr><td rowspan=\"2\">fdoipra2</td><td>dynamic push</td><td></td><td></td><td></td><td></td><td></td><td></td><td></td><td></td><td></td><td></td></tr><tr><td>dynamic pop</td><td></td><td></td><td></td><td></td><td></td><td></td><td></td><td></td><td></td><td></td></tr><tr><td rowspan=\"2\">bfdoipra2</td><td>dynamic push</td><td></td><td></td><td></td><td></td><td></td><td></td><td></td><td></td><td></td><td></td></tr><tr><td>dynamic pop</td><td></td><td></td><td></td><td></td><td></td><td></td><td></td><td></td><td></td><td></td></tr><tr><td rowspan=\"2\">fdoipra3</td><td>dynamic push</td><td></td><td></td><td></td><td></td><td></td><td></td><td></td><td></td><td></td><td></td></tr><tr><td>dynamic pop</td><td></td><td></td><td></td><td></td><td></td><td></td><td></td><td></td><td></td><td></td></tr><tr><td rowspan=\"2\">bfdoipra3</td><td>dynamic push</td><td></td><td></td><td></td><td></td><td></td><td></td><td></td><td></td><td></td><td></td></tr><tr><td>dynamic pop</td><td></td><td></td><td></td><td></td><td></td><td></td><td></td><td></td><td></td><td></td></tr><tr><td rowspan=\"2\">fdoipra4</td><td>dynamic push</td><td></td><td></td><td></td><td></td><td></td><td></td><td></td><td></td><td></td><td></td></tr><tr><td>dynamic pop</td><td></td><td></td><td></td><td></td><td></td><td></td><td></td><td></td><td></td><td></td></tr><tr><td rowspan=\"2\">bfdoipra4</td><td>dynamic push</td><td></td><td></td><td></td><td></td><td></td><td></td><td></td><td></td><td></td><td></td></tr><tr><td>dynamic pop</td><td></td><td></td><td></td><td></td><td></td><td></td><td></td><td></td><td></td><td></td></tr><tr><td rowspan=\"2\">fdoipra5</td><td>dynamic push</td><td></td><td></td><td></td><td></td><td></td><td></td><td></td><td></td><td></td><td></td></tr><tr><td>dynamic pop</td><td></td><td></td><td></td><td></td><td></td><td></td><td></td><td></td><td></td><td></td></tr><tr><td rowspan=\"2\">bfdoipra5</td><td>dynamic push</td><td></td><td></td><td></td><td></td><td></td><td></td><td></td><td></td><td></td><td></td></tr><tr><td>dynamic pop</td><td></td><td></td><td></td><td></td><td></td><td></td><td></td><td></td><td></td><td></td></tr><tr><td rowspan=\"2\">fdoipra6</td><td>dynamic push</td><td></td><td></td><td></td><td></td><td></td><td></td><td></td><td></td><td></td><td></td></tr><tr><td>dynamic pop</td><td></td><td></td><td></td><td></td><td></td><td></td><td></td><td></td><td></td><td></td></tr><tr><td rowspan=\"2\">bfdoipra6</td><td>dynamic push</td><td></td><td></td><td></td><td></td><td></td><td></td><td></td><td></td><td></td><td></td></tr><tr><td>dynamic pop</td><td></td><td></td><td></td><td></td><td></td><td></td><td></td><td></td><td></td><td></td></tr></table>"
      ],
      "text/plain": [
       "<IPython.core.display.HTML object>"
      ]
     },
     "metadata": {},
     "output_type": "display_data"
    }
   ],
   "source": [
    "show_regprof_summary(\"Push and Push Counting\", ['dynamic push', 'dynamic pop'])\n",
    "\n",
    "for bench in Benchmarks:\n",
    "    show_regprof(bench, ['dynamic push', 'dynamic pop'])"
   ]
  },
  {
   "cell_type": "code",
   "execution_count": 38,
   "metadata": {
    "vscode": {
     "languageId": "python"
    }
   },
   "outputs": [
    {
     "data": {
      "text/html": [
       "<table><h2>Spill and Reload Bytes</h2><tr><th></th><th></th><th>leveldb</th></tr><tr><td rowspan=\"2\">pgo-full</td><td>dynamic spill</td><td></td></tr><tr><td>dynamic reload</td><td></td></tr><tr><td rowspan=\"2\">pgo-full-ipra</td><td>dynamic spill</td><td></td></tr><tr><td>dynamic reload</td><td></td></tr><tr><td rowspan=\"2\">pgo-full-fdoipra</td><td>dynamic spill</td><td></td></tr><tr><td>dynamic reload</td><td></td></tr><tr><td rowspan=\"2\">pgo-full-bfdoipra</td><td>dynamic spill</td><td></td></tr><tr><td>dynamic reload</td><td></td></tr><tr><td rowspan=\"2\">pgo-full-fdoipra2</td><td>dynamic spill</td><td></td></tr><tr><td>dynamic reload</td><td></td></tr><tr><td rowspan=\"2\">pgo-full-bfdoipra2</td><td>dynamic spill</td><td></td></tr><tr><td>dynamic reload</td><td></td></tr><tr><td rowspan=\"2\">pgo-full-fdoipra3</td><td>dynamic spill</td><td></td></tr><tr><td>dynamic reload</td><td></td></tr><tr><td rowspan=\"2\">pgo-full-bfdoipra3</td><td>dynamic spill</td><td></td></tr><tr><td>dynamic reload</td><td></td></tr><tr><td rowspan=\"2\">pgo-full-fdoipra4</td><td>dynamic spill</td><td></td></tr><tr><td>dynamic reload</td><td></td></tr><tr><td rowspan=\"2\">pgo-full-bfdoipra4</td><td>dynamic spill</td><td></td></tr><tr><td>dynamic reload</td><td></td></tr><tr><td rowspan=\"2\">pgo-full-fdoipra5</td><td>dynamic spill</td><td></td></tr><tr><td>dynamic reload</td><td></td></tr><tr><td rowspan=\"2\">pgo-full-bfdoipra5</td><td>dynamic spill</td><td></td></tr><tr><td>dynamic reload</td><td></td></tr><tr><td rowspan=\"2\">pgo-full-fdoipra6</td><td>dynamic spill</td><td></td></tr><tr><td>dynamic reload</td><td></td></tr><tr><td rowspan=\"2\">pgo-full-bfdoipra6</td><td>dynamic spill</td><td></td></tr><tr><td>dynamic reload</td><td></td></tr></table>"
      ],
      "text/plain": [
       "<IPython.core.display.HTML object>"
      ]
     },
     "metadata": {},
     "output_type": "display_data"
    },
    {
     "data": {
      "text/html": [
       "<table><h2>leveldb</h2><tr><th></th><th></th><th>none</th><th>1-10</th><th>1-20</th><th>3-10</th><th>3-20</th><th>5-10</th><th>5-20</th><th>10-10</th><th>10-20</th><th>best</th></tr><tr><td rowspan=\"2\">fdoipra</td><td>dynamic spill</td><td></td><td></td><td></td><td></td><td></td><td></td><td></td><td></td><td></td><td></td></tr><tr><td>dynamic reload</td><td></td><td></td><td></td><td></td><td></td><td></td><td></td><td></td><td></td><td></td></tr><tr><td rowspan=\"2\">bfdoipra</td><td>dynamic spill</td><td></td><td></td><td></td><td></td><td></td><td></td><td></td><td></td><td></td><td></td></tr><tr><td>dynamic reload</td><td></td><td></td><td></td><td></td><td></td><td></td><td></td><td></td><td></td><td></td></tr><tr><td rowspan=\"2\">fdoipra2</td><td>dynamic spill</td><td></td><td></td><td></td><td></td><td></td><td></td><td></td><td></td><td></td><td></td></tr><tr><td>dynamic reload</td><td></td><td></td><td></td><td></td><td></td><td></td><td></td><td></td><td></td><td></td></tr><tr><td rowspan=\"2\">bfdoipra2</td><td>dynamic spill</td><td></td><td></td><td></td><td></td><td></td><td></td><td></td><td></td><td></td><td></td></tr><tr><td>dynamic reload</td><td></td><td></td><td></td><td></td><td></td><td></td><td></td><td></td><td></td><td></td></tr><tr><td rowspan=\"2\">fdoipra3</td><td>dynamic spill</td><td></td><td></td><td></td><td></td><td></td><td></td><td></td><td></td><td></td><td></td></tr><tr><td>dynamic reload</td><td></td><td></td><td></td><td></td><td></td><td></td><td></td><td></td><td></td><td></td></tr><tr><td rowspan=\"2\">bfdoipra3</td><td>dynamic spill</td><td></td><td></td><td></td><td></td><td></td><td></td><td></td><td></td><td></td><td></td></tr><tr><td>dynamic reload</td><td></td><td></td><td></td><td></td><td></td><td></td><td></td><td></td><td></td><td></td></tr><tr><td rowspan=\"2\">fdoipra4</td><td>dynamic spill</td><td></td><td></td><td></td><td></td><td></td><td></td><td></td><td></td><td></td><td></td></tr><tr><td>dynamic reload</td><td></td><td></td><td></td><td></td><td></td><td></td><td></td><td></td><td></td><td></td></tr><tr><td rowspan=\"2\">bfdoipra4</td><td>dynamic spill</td><td></td><td></td><td></td><td></td><td></td><td></td><td></td><td></td><td></td><td></td></tr><tr><td>dynamic reload</td><td></td><td></td><td></td><td></td><td></td><td></td><td></td><td></td><td></td><td></td></tr><tr><td rowspan=\"2\">fdoipra5</td><td>dynamic spill</td><td></td><td></td><td></td><td></td><td></td><td></td><td></td><td></td><td></td><td></td></tr><tr><td>dynamic reload</td><td></td><td></td><td></td><td></td><td></td><td></td><td></td><td></td><td></td><td></td></tr><tr><td rowspan=\"2\">bfdoipra5</td><td>dynamic spill</td><td></td><td></td><td></td><td></td><td></td><td></td><td></td><td></td><td></td><td></td></tr><tr><td>dynamic reload</td><td></td><td></td><td></td><td></td><td></td><td></td><td></td><td></td><td></td><td></td></tr><tr><td rowspan=\"2\">fdoipra6</td><td>dynamic spill</td><td></td><td></td><td></td><td></td><td></td><td></td><td></td><td></td><td></td><td></td></tr><tr><td>dynamic reload</td><td></td><td></td><td></td><td></td><td></td><td></td><td></td><td></td><td></td><td></td></tr><tr><td rowspan=\"2\">bfdoipra6</td><td>dynamic spill</td><td></td><td></td><td></td><td></td><td></td><td></td><td></td><td></td><td></td><td></td></tr><tr><td>dynamic reload</td><td></td><td></td><td></td><td></td><td></td><td></td><td></td><td></td><td></td><td></td></tr></table>"
      ],
      "text/plain": [
       "<IPython.core.display.HTML object>"
      ]
     },
     "metadata": {},
     "output_type": "display_data"
    }
   ],
   "source": [
    "show_regprof_summary(\"Spill and Reload Bytes\", ['dynamic spill', 'dynamic reload'])\n",
    "\n",
    "for bench in Benchmarks:\n",
    "    show_regprof(bench, ['dynamic spill', 'dynamic reload'])"
   ]
  },
  {
   "attachments": {},
   "cell_type": "markdown",
   "metadata": {},
   "source": [
    "## Wall Time and Cache Loads/Stores\n",
    "\n"
   ]
  },
  {
   "cell_type": "code",
   "execution_count": 39,
   "metadata": {
    "vscode": {
     "languageId": "python"
    }
   },
   "outputs": [
    {
     "data": {
      "text/html": [
       "<table><h2>Wall Time</h2><tr><th></th><th></th><th>leveldb</th></tr><tr><td rowspan=\"3\">pgo-full</td><td>time elapsed</td><td></td></tr><tr><td>instructions</td><td></td></tr><tr><td>cycles</td><td></td></tr><tr><td rowspan=\"3\">pgo-full-ipra</td><td>time elapsed</td><td></td></tr><tr><td>instructions</td><td></td></tr><tr><td>cycles</td><td></td></tr><tr><td rowspan=\"3\">pgo-full-fdoipra</td><td>time elapsed</td><td></td></tr><tr><td>instructions</td><td></td></tr><tr><td>cycles</td><td></td></tr><tr><td rowspan=\"3\">pgo-full-bfdoipra</td><td>time elapsed</td><td></td></tr><tr><td>instructions</td><td></td></tr><tr><td>cycles</td><td></td></tr><tr><td rowspan=\"3\">pgo-full-fdoipra2</td><td>time elapsed</td><td></td></tr><tr><td>instructions</td><td></td></tr><tr><td>cycles</td><td></td></tr><tr><td rowspan=\"3\">pgo-full-bfdoipra2</td><td>time elapsed</td><td></td></tr><tr><td>instructions</td><td></td></tr><tr><td>cycles</td><td></td></tr><tr><td rowspan=\"3\">pgo-full-fdoipra3</td><td>time elapsed</td><td></td></tr><tr><td>instructions</td><td></td></tr><tr><td>cycles</td><td></td></tr><tr><td rowspan=\"3\">pgo-full-bfdoipra3</td><td>time elapsed</td><td></td></tr><tr><td>instructions</td><td></td></tr><tr><td>cycles</td><td></td></tr><tr><td rowspan=\"3\">pgo-full-fdoipra4</td><td>time elapsed</td><td></td></tr><tr><td>instructions</td><td></td></tr><tr><td>cycles</td><td></td></tr><tr><td rowspan=\"3\">pgo-full-bfdoipra4</td><td>time elapsed</td><td></td></tr><tr><td>instructions</td><td></td></tr><tr><td>cycles</td><td></td></tr><tr><td rowspan=\"3\">pgo-full-fdoipra5</td><td>time elapsed</td><td></td></tr><tr><td>instructions</td><td></td></tr><tr><td>cycles</td><td></td></tr><tr><td rowspan=\"3\">pgo-full-bfdoipra5</td><td>time elapsed</td><td></td></tr><tr><td>instructions</td><td></td></tr><tr><td>cycles</td><td></td></tr><tr><td rowspan=\"3\">pgo-full-fdoipra6</td><td>time elapsed</td><td></td></tr><tr><td>instructions</td><td></td></tr><tr><td>cycles</td><td></td></tr><tr><td rowspan=\"3\">pgo-full-bfdoipra6</td><td>time elapsed</td><td></td></tr><tr><td>instructions</td><td></td></tr><tr><td>cycles</td><td></td></tr></table>"
      ],
      "text/plain": [
       "<IPython.core.display.HTML object>"
      ]
     },
     "metadata": {},
     "output_type": "display_data"
    },
    {
     "data": {
      "text/html": [
       "<table><h2>leveldb</h2><tr><th></th><th></th><th>none</th><th>1-10</th><th>1-20</th><th>3-10</th><th>3-20</th><th>5-10</th><th>5-20</th><th>10-10</th><th>10-20</th><th>best</th></tr><tr><td rowspan=\"3\">fdoipra</td><td>time elapsed</td><td>13.3291 (<span style='color: red;'>+0.679%</span>)</td><td>13.3149 (<span style='color: red;'>+0.5718%</span>)</td><td>13.3739 (<span style='color: red;'>+1.017%</span>)</td><td>13.3506 (<span style='color: red;'>+0.8414%</span>)</td><td>13.3654 (<span style='color: red;'>+0.9532%</span>)</td><td>13.3292 (<span style='color: red;'>+0.6798%</span>)</td><td>13.4075 (<span style='color: red;'>+1.271%</span>)</td><td>13.351 (<span style='color: red;'>+0.8445%</span>)</td><td>13.3809 (<span style='color: red;'>+1.07%</span>)</td><td></td></tr><tr><td>instructions</td><td>99775196494.0 (<span style='color: red;'>+0.6404%</span>)</td><td>99046461636.0 (<span style='color: green;'>-0.09463%</span>)</td><td>99020103527.0 (<span style='color: green;'>-0.1212%</span>)</td><td>99064828929.0 (<span style='color: green;'>-0.07611%</span>)</td><td>100642620287.0 (<span style='color: red;'>+1.515%</span>)</td><td>98832222186.0 (<span style='color: green;'>-0.3107%</span>)</td><td>98973127337.0 (<span style='color: green;'>-0.1686%</span>)</td><td>99674853737.0 (<span style='color: red;'>+0.5392%</span>)</td><td>99328262544.0 (<span style='color: red;'>+0.1896%</span>)</td><td></td></tr><tr><td>cycles</td><td>56356882067.0 (<span style='color: red;'>+0.6446%</span>)</td><td>56139063858.0 (<span style='color: red;'>+0.2557%</span>)</td><td>56098383256.0 (<span style='color: red;'>+0.183%</span>)</td><td>56235058436.0 (<span style='color: red;'>+0.4271%</span>)</td><td>57142510980.0 (<span style='color: red;'>+2.048%</span>)</td><td>56106246310.0 (<span style='color: red;'>+0.197%</span>)</td><td>56291147624.0 (<span style='color: red;'>+0.5273%</span>)</td><td>56243008988.0 (<span style='color: red;'>+0.4413%</span>)</td><td>57223872354.0 (<span style='color: red;'>+2.193%</span>)</td><td></td></tr><tr><td rowspan=\"3\">bfdoipra</td><td>time elapsed</td><td>13.2128 (<span style='color: green;'>-0.1994%</span>)</td><td>13.1757 (<span style='color: green;'>-0.4796%</span>)</td><td>13.2094 (<span style='color: green;'>-0.2251%</span>)</td><td>13.199 (<span style='color: green;'>-0.3036%</span>)</td><td>13.1714 (<span style='color: green;'>-0.5121%</span>)</td><td>13.2515 (<span style='color: red;'>+0.09291%</span>)</td><td>13.19421 (<span style='color: green;'>-0.3398%</span>)</td><td>13.2134 (<span style='color: green;'>-0.1949%</span>)</td><td>13.2417 (<span style='color: red;'>+0.01888%</span>)</td><td></td></tr><tr><td>instructions</td><td>99034413857.0 (<span style='color: green;'>-0.1068%</span>)</td><td>99828327868.0 (<span style='color: red;'>+0.694%</span>)</td><td>98922955013.0 (<span style='color: green;'>-0.2192%</span>)</td><td>99584691850.0 (<span style='color: red;'>+0.4483%</span>)</td><td>99894741680.0 (<span style='color: red;'>+0.761%</span>)</td><td>99211433336.0 (<span style='color: red;'>+0.07177%</span>)</td><td>99466364137.0 (<span style='color: red;'>+0.3289%</span>)</td><td>98878903958.0 (<span style='color: green;'>-0.2636%</span>)</td><td>99734979279.0 (<span style='color: red;'>+0.5999%</span>)</td><td></td></tr><tr><td>cycles</td><td>55625742236.0 (<span style='color: green;'>-0.6611%</span>)</td><td>55758865531.0 (<span style='color: green;'>-0.4233%</span>)</td><td>55308398858.0 (<span style='color: green;'>-1.228%</span>)</td><td>55821272603.0 (<span style='color: green;'>-0.3119%</span>)</td><td>55849899847.0 (<span style='color: green;'>-0.2607%</span>)</td><td>55727071830.0 (<span style='color: green;'>-0.4801%</span>)</td><td>55672879691.0 (<span style='color: green;'>-0.5769%</span>)</td><td>55591478672.0 (<span style='color: green;'>-0.7222%</span>)</td><td>56178589302.0 (<span style='color: red;'>+0.3262%</span>)</td><td></td></tr><tr><td rowspan=\"3\">fdoipra2</td><td>time elapsed</td><td>13.337 (<span style='color: red;'>+0.7387%</span>)</td><td>13.3889 (<span style='color: red;'>+1.131%</span>)</td><td>13.3765 (<span style='color: red;'>+1.037%</span>)</td><td>13.3884 (<span style='color: red;'>+1.127%</span>)</td><td>13.3786 (<span style='color: red;'>+1.053%</span>)</td><td>13.33711 (<span style='color: red;'>+0.7395%</span>)</td><td>13.4276 (<span style='color: red;'>+1.423%</span>)</td><td>13.394 (<span style='color: red;'>+1.169%</span>)</td><td>13.4334 (<span style='color: red;'>+1.467%</span>)</td><td></td></tr><tr><td>instructions</td><td>99991235970.0 (<span style='color: red;'>+0.8583%</span>)</td><td>99936394020.0 (<span style='color: red;'>+0.803%</span>)</td><td>99623749247.0 (<span style='color: red;'>+0.4877%</span>)</td><td>98903748629.0 (<span style='color: green;'>-0.2386%</span>)</td><td>99285357383.0 (<span style='color: red;'>+0.1463%</span>)</td><td>100001809368.0 (<span style='color: red;'>+0.869%</span>)</td><td>99667555666.0 (<span style='color: red;'>+0.5318%</span>)</td><td>99080331190.0 (<span style='color: green;'>-0.06047%</span>)</td><td>99850571975.0 (<span style='color: red;'>+0.7164%</span>)</td><td></td></tr><tr><td>cycles</td><td>56853958378.0 (<span style='color: red;'>+1.532%</span>)</td><td>56726950924.0 (<span style='color: red;'>+1.306%</span>)</td><td>56338617923.0 (<span style='color: red;'>+0.612%</span>)</td><td>56005173019.0 (<span style='color: red;'>+0.01655%</span>)</td><td>56539923357.0 (<span style='color: red;'>+0.9715%</span>)</td><td>56858384275.0 (<span style='color: red;'>+1.54%</span>)</td><td>56876506225.0 (<span style='color: red;'>+1.573%</span>)</td><td>56742369110.0 (<span style='color: red;'>+1.333%</span>)</td><td>56697243327.0 (<span style='color: red;'>+1.252%</span>)</td><td></td></tr><tr><td rowspan=\"3\">bfdoipra2</td><td>time elapsed</td><td>13.2815 (<span style='color: red;'>+0.3195%</span>)</td><td>13.2311 (<span style='color: green;'>-0.06118%</span>)</td><td>13.2315 (<span style='color: green;'>-0.05816%</span>)</td><td>13.299 (<span style='color: red;'>+0.4517%</span>)</td><td>13.2789 (<span style='color: red;'>+0.2999%</span>)</td><td>13.3252 (<span style='color: red;'>+0.6496%</span>)</td><td>13.2095 (<span style='color: green;'>-0.2243%</span>)</td><td>13.2358 (<span style='color: green;'>-0.02568%</span>)</td><td>13.29229 (<span style='color: red;'>+0.401%</span>)</td><td></td></tr><tr><td>instructions</td><td>99624875214.0 (<span style='color: red;'>+0.4888%</span>)</td><td>99373675362.0 (<span style='color: red;'>+0.2354%</span>)</td><td>99597174675.0 (<span style='color: red;'>+0.4609%</span>)</td><td>100153051157.0 (<span style='color: red;'>+1.022%</span>)</td><td>99372845002.0 (<span style='color: red;'>+0.2346%</span>)</td><td>100071791097.0 (<span style='color: red;'>+0.9396%</span>)</td><td>99759191416.0 (<span style='color: red;'>+0.6243%</span>)</td><td>99450146697.0 (<span style='color: red;'>+0.3126%</span>)</td><td>99802929017.0 (<span style='color: red;'>+0.6684%</span>)</td><td></td></tr><tr><td>cycles</td><td>55682135738.0 (<span style='color: green;'>-0.5603%</span>)</td><td>55688864857.0 (<span style='color: green;'>-0.5483%</span>)</td><td>55867595328.0 (<span style='color: green;'>-0.2291%</span>)</td><td>56678254935.0 (<span style='color: red;'>+1.219%</span>)</td><td>56101601186.0 (<span style='color: red;'>+0.1888%</span>)</td><td>56068649992.0 (<span style='color: red;'>+0.1299%</span>)</td><td>56240552496.0 (<span style='color: red;'>+0.4369%</span>)</td><td>55609686306.0 (<span style='color: green;'>-0.6897%</span>)</td><td>55919162312.0 (<span style='color: green;'>-0.1371%</span>)</td><td></td></tr><tr><td rowspan=\"3\">fdoipra3</td><td>time elapsed</td><td>13.2839 (<span style='color: red;'>+0.3376%</span>)</td><td>13.3451 (<span style='color: red;'>+0.7999%</span>)</td><td>13.285 (<span style='color: red;'>+0.3459%</span>)</td><td>13.2871 (<span style='color: red;'>+0.3618%</span>)</td><td>13.3005 (<span style='color: red;'>+0.463%</span>)</td><td>13.3463 (<span style='color: red;'>+0.809%</span>)</td><td>13.3389 (<span style='color: red;'>+0.7531%</span>)</td><td>13.3355 (<span style='color: red;'>+0.7274%</span>)</td><td>13.2956 (<span style='color: red;'>+0.426%</span>)</td><td></td></tr><tr><td>instructions</td><td>99138950495.0 (<span style='color: green;'>-0.001343%</span>)</td><td>100326452738.0 (<span style='color: red;'>+1.196%</span>)</td><td>99978699027.0 (<span style='color: red;'>+0.8457%</span>)</td><td>99907696412.0 (<span style='color: red;'>+0.7741%</span>)</td><td>99825126741.0 (<span style='color: red;'>+0.6908%</span>)</td><td>100325621024.0 (<span style='color: red;'>+1.196%</span>)</td><td>99316798511.0 (<span style='color: red;'>+0.178%</span>)</td><td>100405336402.0 (<span style='color: red;'>+1.276%</span>)</td><td>99418178688.0 (<span style='color: red;'>+0.2803%</span>)</td><td></td></tr><tr><td>cycles</td><td>55964975420.0 (<span style='color: green;'>-0.05524%</span>)</td><td>56918050649.0 (<span style='color: red;'>+1.647%</span>)</td><td>56391702824.0 (<span style='color: red;'>+0.7068%</span>)</td><td>56234845427.0 (<span style='color: red;'>+0.4267%</span>)</td><td>56399404303.0 (<span style='color: red;'>+0.7206%</span>)</td><td>56287316805.0 (<span style='color: red;'>+0.5204%</span>)</td><td>55765103013.0 (<span style='color: green;'>-0.4122%</span>)</td><td>56723891238.0 (<span style='color: red;'>+1.3%</span>)</td><td>56137376059.0 (<span style='color: red;'>+0.2526%</span>)</td><td></td></tr><tr><td rowspan=\"3\">bfdoipra3</td><td>time elapsed</td><td>13.2431 (<span style='color: red;'>+0.02946%</span>)</td><td>13.3257 (<span style='color: red;'>+0.6534%</span>)</td><td>13.279 (<span style='color: red;'>+0.3006%</span>)</td><td>13.3036 (<span style='color: red;'>+0.4864%</span>)</td><td>13.3152 (<span style='color: red;'>+0.5741%</span>)</td><td>13.3156 (<span style='color: red;'>+0.5771%</span>)</td><td>13.3299 (<span style='color: red;'>+0.6851%</span>)</td><td>13.3115 (<span style='color: red;'>+0.5461%</span>)</td><td>13.3297 (<span style='color: red;'>+0.6836%</span>)</td><td></td></tr><tr><td>instructions</td><td>99817506501.0 (<span style='color: red;'>+0.6831%</span>)</td><td>99690479916.0 (<span style='color: red;'>+0.555%</span>)</td><td>99864553037.0 (<span style='color: red;'>+0.7306%</span>)</td><td>99250292790.0 (<span style='color: red;'>+0.111%</span>)</td><td>99400005396.0 (<span style='color: red;'>+0.262%</span>)</td><td>99916840486.0 (<span style='color: red;'>+0.7833%</span>)</td><td>100154884143.0 (<span style='color: red;'>+1.023%</span>)</td><td>99951973546.0 (<span style='color: red;'>+0.8187%</span>)</td><td>101313008402.0 (<span style='color: red;'>+2.192%</span>)</td><td></td></tr><tr><td>cycles</td><td>56025946026.0 (<span style='color: red;'>+0.05364%</span>)</td><td>56411094596.0 (<span style='color: red;'>+0.7415%</span>)</td><td>56204552950.0 (<span style='color: red;'>+0.3726%</span>)</td><td>56192740012.0 (<span style='color: red;'>+0.3515%</span>)</td><td>56193114978.0 (<span style='color: red;'>+0.3522%</span>)</td><td>56615589924.0 (<span style='color: red;'>+1.107%</span>)</td><td>56360436394.0 (<span style='color: red;'>+0.651%</span>)</td><td>56077684178.0 (<span style='color: red;'>+0.146%</span>)</td><td>57129160313.0 (<span style='color: red;'>+2.024%</span>)</td><td></td></tr><tr><td rowspan=\"3\">fdoipra4</td><td>time elapsed</td><td>13.385 (<span style='color: red;'>+1.101%</span>)</td><td>13.3871 (<span style='color: red;'>+1.117%</span>)</td><td>13.3708 (<span style='color: red;'>+0.994%</span>)</td><td>13.3338 (<span style='color: red;'>+0.7145%</span>)</td><td>13.4089 (<span style='color: red;'>+1.282%</span>)</td><td>13.4264 (<span style='color: red;'>+1.414%</span>)</td><td>13.5328 (<span style='color: red;'>+2.218%</span>)</td><td>13.347 (<span style='color: red;'>+0.8142%</span>)</td><td>13.584 (<span style='color: red;'>+2.604%</span>)</td><td></td></tr><tr><td>instructions</td><td>99454175994.0 (<span style='color: red;'>+0.3166%</span>)</td><td>100019194070.0 (<span style='color: red;'>+0.8865%</span>)</td><td>99700516304.0 (<span style='color: red;'>+0.5651%</span>)</td><td>99871582070.0 (<span style='color: red;'>+0.7376%</span>)</td><td>99369851970.0 (<span style='color: red;'>+0.2316%</span>)</td><td>100763853380.0 (<span style='color: red;'>+1.638%</span>)</td><td>100487201881.0 (<span style='color: red;'>+1.359%</span>)</td><td>99076956809.0 (<span style='color: green;'>-0.06387%</span>)</td><td>100194420406.0 (<span style='color: red;'>+1.063%</span>)</td><td></td></tr><tr><td>cycles</td><td>56440532649.0 (<span style='color: red;'>+0.794%</span>)</td><td>56886332635.0 (<span style='color: red;'>+1.59%</span>)</td><td>56364653657.0 (<span style='color: red;'>+0.6585%</span>)</td><td>56293616675.0 (<span style='color: red;'>+0.5317%</span>)</td><td>56372454285.0 (<span style='color: red;'>+0.6725%</span>)</td><td>57134489665.0 (<span style='color: red;'>+2.033%</span>)</td><td>57357813244.0 (<span style='color: red;'>+2.432%</span>)</td><td>56149277822.0 (<span style='color: red;'>+0.2739%</span>)</td><td>57806468996.0 (<span style='color: red;'>+3.233%</span>)</td><td></td></tr><tr><td rowspan=\"3\">bfdoipra4</td><td>time elapsed</td><td>13.4175 (<span style='color: red;'>+1.347%</span>)</td><td>13.3206 (<span style='color: red;'>+0.6148%</span>)</td><td>13.371 (<span style='color: red;'>+0.9955%</span>)</td><td>13.3082 (<span style='color: red;'>+0.5212%</span>)</td><td>13.639 (<span style='color: red;'>+3.02%</span>)</td><td>13.2886 (<span style='color: red;'>+0.3731%</span>)</td><td>13.3861 (<span style='color: red;'>+1.11%</span>)</td><td>13.3586 (<span style='color: red;'>+0.9019%</span>)</td><td>13.3454 (<span style='color: red;'>+0.8022%</span>)</td><td></td></tr><tr><td>instructions</td><td>99764710025.0 (<span style='color: red;'>+0.6298%</span>)</td><td>99458987216.0 (<span style='color: red;'>+0.3215%</span>)</td><td>98998279782.0 (<span style='color: green;'>-0.1432%</span>)</td><td>99840066884.0 (<span style='color: red;'>+0.7059%</span>)</td><td>100448085478.0 (<span style='color: red;'>+1.319%</span>)</td><td>99677970809.0 (<span style='color: red;'>+0.5424%</span>)</td><td>99997944481.0 (<span style='color: red;'>+0.8651%</span>)</td><td>98984626943.0 (<span style='color: green;'>-0.157%</span>)</td><td>100913572155.0 (<span style='color: red;'>+1.789%</span>)</td><td></td></tr><tr><td>cycles</td><td>56086704304.0 (<span style='color: red;'>+0.1621%</span>)</td><td>55607355876.0 (<span style='color: green;'>-0.6939%</span>)</td><td>55737158006.0 (<span style='color: green;'>-0.4621%</span>)</td><td>56417299927.0 (<span style='color: red;'>+0.7525%</span>)</td><td>57040895111.0 (<span style='color: red;'>+1.866%</span>)</td><td>55760845505.0 (<span style='color: green;'>-0.4198%</span>)</td><td>57054076048.0 (<span style='color: red;'>+1.89%</span>)</td><td>56065973465.0 (<span style='color: red;'>+0.1251%</span>)</td><td>57197510857.0 (<span style='color: red;'>+2.146%</span>)</td><td></td></tr><tr><td rowspan=\"3\">fdoipra5</td><td>time elapsed</td><td>13.5167 (<span style='color: red;'>+2.096%</span>)</td><td>13.4365 (<span style='color: red;'>+1.49%</span>)</td><td>13.4449 (<span style='color: red;'>+1.554%</span>)</td><td>13.518 (<span style='color: red;'>+2.106%</span>)</td><td>13.683 (<span style='color: red;'>+3.352%</span>)</td><td>13.3498 (<span style='color: red;'>+0.8354%</span>)</td><td>13.5774 (<span style='color: red;'>+2.555%</span>)</td><td>13.4156 (<span style='color: red;'>+1.332%</span>)</td><td>13.716 (<span style='color: red;'>+3.601%</span>)</td><td></td></tr><tr><td>instructions</td><td>99232622887.0 (<span style='color: red;'>+0.09314%</span>)</td><td>99484517111.0 (<span style='color: red;'>+0.3472%</span>)</td><td>99692593823.0 (<span style='color: red;'>+0.5571%</span>)</td><td>100049738033.0 (<span style='color: red;'>+0.9173%</span>)</td><td>101026943871.0 (<span style='color: red;'>+1.903%</span>)</td><td>99687006342.0 (<span style='color: red;'>+0.5515%</span>)</td><td>99302789815.0 (<span style='color: red;'>+0.1639%</span>)</td><td>100974574093.0 (<span style='color: red;'>+1.85%</span>)</td><td>99534951588.0 (<span style='color: red;'>+0.3981%</span>)</td><td></td></tr><tr><td>cycles</td><td>56257856643.0 (<span style='color: red;'>+0.4678%</span>)</td><td>56126982579.0 (<span style='color: red;'>+0.2341%</span>)</td><td>56639961003.0 (<span style='color: red;'>+1.15%</span>)</td><td>56760304757.0 (<span style='color: red;'>+1.365%</span>)</td><td>62883739452.0 (<span style='color: red;'>+12.3%</span>)</td><td>56581080110.0 (<span style='color: red;'>+1.045%</span>)</td><td>56417074606.0 (<span style='color: red;'>+0.7521%</span>)</td><td>57466831599.0 (<span style='color: red;'>+2.627%</span>)</td><td>58003906961.0 (<span style='color: red;'>+3.586%</span>)</td><td></td></tr><tr><td rowspan=\"3\">bfdoipra5</td><td>time elapsed</td><td>13.4113 (<span style='color: red;'>+1.3%</span>)</td><td>13.4345 (<span style='color: red;'>+1.475%</span>)</td><td>13.31661 (<span style='color: red;'>+0.5847%</span>)</td><td>13.3773 (<span style='color: red;'>+1.043%</span>)</td><td>13.2965 (<span style='color: red;'>+0.4328%</span>)</td><td>13.3884 (<span style='color: red;'>+1.127%</span>)</td><td>13.32 (<span style='color: red;'>+0.6103%</span>)</td><td>13.3525 (<span style='color: red;'>+0.8558%</span>)</td><td>13.3793 (<span style='color: red;'>+1.058%</span>)</td><td></td></tr><tr><td>instructions</td><td>99605885498.0 (<span style='color: red;'>+0.4696%</span>)</td><td>99518562046.0 (<span style='color: red;'>+0.3816%</span>)</td><td>99600003047.0 (<span style='color: red;'>+0.4637%</span>)</td><td>99312262727.0 (<span style='color: red;'>+0.1735%</span>)</td><td>99468221135.0 (<span style='color: red;'>+0.3308%</span>)</td><td>100161201613.0 (<span style='color: red;'>+1.03%</span>)</td><td>99309334778.0 (<span style='color: red;'>+0.1705%</span>)</td><td>99317546758.0 (<span style='color: red;'>+0.1788%</span>)</td><td>99924145870.0 (<span style='color: red;'>+0.7907%</span>)</td><td></td></tr><tr><td>cycles</td><td>56625888720.0 (<span style='color: red;'>+1.125%</span>)</td><td>57071147814.0 (<span style='color: red;'>+1.92%</span>)</td><td>56349350334.0 (<span style='color: red;'>+0.6312%</span>)</td><td>56212838670.0 (<span style='color: red;'>+0.3874%</span>)</td><td>56333623392.0 (<span style='color: red;'>+0.6031%</span>)</td><td>56395741655.0 (<span style='color: red;'>+0.714%</span>)</td><td>56323867541.0 (<span style='color: red;'>+0.5857%</span>)</td><td>56093377789.0 (<span style='color: red;'>+0.1741%</span>)</td><td>56488475066.0 (<span style='color: red;'>+0.8796%</span>)</td><td></td></tr><tr><td rowspan=\"3\">fdoipra6</td><td>time elapsed</td><td>13.3728 (<span style='color: red;'>+1.009%</span>)</td><td>13.3435 (<span style='color: red;'>+0.7878%</span>)</td><td></td><td>13.3745 (<span style='color: red;'>+1.022%</span>)</td><td></td><td>13.3508 (<span style='color: red;'>+0.843%</span>)</td><td></td><td>13.3107 (<span style='color: red;'>+0.5401%</span>)</td><td></td><td></td></tr><tr><td>instructions</td><td>99874764252.0 (<span style='color: red;'>+0.7409%</span>)</td><td>99768306631.0 (<span style='color: red;'>+0.6335%</span>)</td><td></td><td>99505885353.0 (<span style='color: red;'>+0.3688%</span>)</td><td></td><td>99473964155.0 (<span style='color: red;'>+0.3366%</span>)</td><td></td><td>99380391949.0 (<span style='color: red;'>+0.2422%</span>)</td><td></td><td></td></tr><tr><td>cycles</td><td>56647696061.0 (<span style='color: red;'>+1.164%</span>)</td><td>56454455747.0 (<span style='color: red;'>+0.8189%</span>)</td><td></td><td>56168383595.0 (<span style='color: red;'>+0.308%</span>)</td><td></td><td>56406982636.0 (<span style='color: red;'>+0.7341%</span>)</td><td></td><td>56157971285.0 (<span style='color: red;'>+0.2894%</span>)</td><td></td><td></td></tr><tr><td rowspan=\"3\">bfdoipra6</td><td>time elapsed</td><td></td><td></td><td></td><td></td><td></td><td></td><td></td><td></td><td></td><td></td></tr><tr><td>instructions</td><td></td><td></td><td></td><td></td><td></td><td></td><td></td><td></td><td></td><td></td></tr><tr><td>cycles</td><td></td><td></td><td></td><td></td><td></td><td></td><td></td><td></td><td></td><td></td></tr></table>"
      ],
      "text/plain": [
       "<IPython.core.display.HTML object>"
      ]
     },
     "metadata": {},
     "output_type": "display_data"
    }
   ],
   "source": [
    "show_regprof_summary(\"Wall Time\", ['time elapsed', 'instructions', 'cycles'])\n",
    "\n",
    "for bench in Benchmarks:\n",
    "    show_regprof(bench, ['time elapsed', 'instructions', 'cycles'])"
   ]
  },
  {
   "cell_type": "code",
   "execution_count": 40,
   "metadata": {
    "vscode": {
     "languageId": "python"
    }
   },
   "outputs": [
    {
     "data": {
      "text/html": [
       "<table><h2>Cache Loads/Stores</h2><tr><th></th><th></th><th>leveldb</th></tr><tr><td rowspan=\"2\">pgo-full</td><td>L1-dcache-loads</td><td></td></tr><tr><td>L1-dcache-stores</td><td></td></tr><tr><td rowspan=\"2\">pgo-full-ipra</td><td>L1-dcache-loads</td><td></td></tr><tr><td>L1-dcache-stores</td><td></td></tr><tr><td rowspan=\"2\">pgo-full-fdoipra</td><td>L1-dcache-loads</td><td></td></tr><tr><td>L1-dcache-stores</td><td></td></tr><tr><td rowspan=\"2\">pgo-full-bfdoipra</td><td>L1-dcache-loads</td><td></td></tr><tr><td>L1-dcache-stores</td><td></td></tr><tr><td rowspan=\"2\">pgo-full-fdoipra2</td><td>L1-dcache-loads</td><td></td></tr><tr><td>L1-dcache-stores</td><td></td></tr><tr><td rowspan=\"2\">pgo-full-bfdoipra2</td><td>L1-dcache-loads</td><td></td></tr><tr><td>L1-dcache-stores</td><td></td></tr><tr><td rowspan=\"2\">pgo-full-fdoipra3</td><td>L1-dcache-loads</td><td></td></tr><tr><td>L1-dcache-stores</td><td></td></tr><tr><td rowspan=\"2\">pgo-full-bfdoipra3</td><td>L1-dcache-loads</td><td></td></tr><tr><td>L1-dcache-stores</td><td></td></tr><tr><td rowspan=\"2\">pgo-full-fdoipra4</td><td>L1-dcache-loads</td><td></td></tr><tr><td>L1-dcache-stores</td><td></td></tr><tr><td rowspan=\"2\">pgo-full-bfdoipra4</td><td>L1-dcache-loads</td><td></td></tr><tr><td>L1-dcache-stores</td><td></td></tr><tr><td rowspan=\"2\">pgo-full-fdoipra5</td><td>L1-dcache-loads</td><td></td></tr><tr><td>L1-dcache-stores</td><td></td></tr><tr><td rowspan=\"2\">pgo-full-bfdoipra5</td><td>L1-dcache-loads</td><td></td></tr><tr><td>L1-dcache-stores</td><td></td></tr><tr><td rowspan=\"2\">pgo-full-fdoipra6</td><td>L1-dcache-loads</td><td></td></tr><tr><td>L1-dcache-stores</td><td></td></tr><tr><td rowspan=\"2\">pgo-full-bfdoipra6</td><td>L1-dcache-loads</td><td></td></tr><tr><td>L1-dcache-stores</td><td></td></tr></table>"
      ],
      "text/plain": [
       "<IPython.core.display.HTML object>"
      ]
     },
     "metadata": {},
     "output_type": "display_data"
    },
    {
     "data": {
      "text/html": [
       "<table><h2>leveldb</h2><tr><th></th><th></th><th>none</th><th>1-10</th><th>1-20</th><th>3-10</th><th>3-20</th><th>5-10</th><th>5-20</th><th>10-10</th><th>10-20</th><th>best</th></tr><tr><td rowspan=\"2\">fdoipra</td><td>L1-dcache-loads</td><td>29522514588.0 (<span style='color: red;'>+0.9791%</span>)</td><td>29277338908.0 (<span style='color: red;'>+0.1405%</span>)</td><td>29196599385.0 (<span style='color: green;'>-0.1357%</span>)</td><td>29495305958.0 (<span style='color: red;'>+0.886%</span>)</td><td>29571242132.0 (<span style='color: red;'>+1.146%</span>)</td><td>29330271404.0 (<span style='color: red;'>+0.3215%</span>)</td><td>29350119508.0 (<span style='color: red;'>+0.3894%</span>)</td><td>29377717379.0 (<span style='color: red;'>+0.4838%</span>)</td><td>29552881970.0 (<span style='color: red;'>+1.083%</span>)</td><td></td></tr><tr><td>L1-dcache-stores</td><td>15081079655.0 (<span style='color: red;'>+1.198%</span>)</td><td>14885245516.0 (<span style='color: green;'>-0.1163%</span>)</td><td>14868292511.0 (<span style='color: green;'>-0.2301%</span>)</td><td>14962427911.0 (<span style='color: red;'>+0.4016%</span>)</td><td>15050091297.0 (<span style='color: red;'>+0.9898%</span>)</td><td>15016066547.0 (<span style='color: red;'>+0.7615%</span>)</td><td>15072055543.0 (<span style='color: red;'>+1.137%</span>)</td><td>15067937478.0 (<span style='color: red;'>+1.11%</span>)</td><td>14951552206.0 (<span style='color: red;'>+0.3286%</span>)</td><td></td></tr><tr><td rowspan=\"2\">bfdoipra</td><td>L1-dcache-loads</td><td>29313561038.0 (<span style='color: red;'>+0.2644%</span>)</td><td>29345528430.0 (<span style='color: red;'>+0.3737%</span>)</td><td>29232677638.0 (<span style='color: green;'>-0.0123%</span>)</td><td>29286652691.0 (<span style='color: red;'>+0.1723%</span>)</td><td>29455399261.0 (<span style='color: red;'>+0.7495%</span>)</td><td>29276699428.0 (<span style='color: red;'>+0.1383%</span>)</td><td>29359943223.0 (<span style='color: red;'>+0.423%</span>)</td><td>29090659948.0 (<span style='color: green;'>-0.4981%</span>)</td><td>29386265277.0 (<span style='color: red;'>+0.513%</span>)</td><td></td></tr><tr><td>L1-dcache-stores</td><td>14991973854.0 (<span style='color: red;'>+0.5999%</span>)</td><td>14966614396.0 (<span style='color: red;'>+0.4297%</span>)</td><td>14826837818.0 (<span style='color: green;'>-0.5082%</span>)</td><td>15032242557.0 (<span style='color: red;'>+0.8701%</span>)</td><td>15019998600.0 (<span style='color: red;'>+0.7879%</span>)</td><td>14952502187.0 (<span style='color: red;'>+0.335%</span>)</td><td>15051489314.0 (<span style='color: red;'>+0.9992%</span>)</td><td>14936928120.0 (<span style='color: red;'>+0.2305%</span>)</td><td>15034993664.0 (<span style='color: red;'>+0.8885%</span>)</td><td></td></tr><tr><td rowspan=\"2\">fdoipra2</td><td>L1-dcache-loads</td><td>29318362288.0 (<span style='color: red;'>+0.2808%</span>)</td><td>29528223559.0 (<span style='color: red;'>+0.9986%</span>)</td><td>29587918776.0 (<span style='color: red;'>+1.203%</span>)</td><td>29405519932.0 (<span style='color: red;'>+0.5789%</span>)</td><td>29397689032.0 (<span style='color: red;'>+0.5521%</span>)</td><td>29421194059.0 (<span style='color: red;'>+0.6325%</span>)</td><td>29345828066.0 (<span style='color: red;'>+0.3747%</span>)</td><td>29505393980.0 (<span style='color: red;'>+0.9205%</span>)</td><td>29628983228.0 (<span style='color: red;'>+1.343%</span>)</td><td></td></tr><tr><td>L1-dcache-stores</td><td>15034100244.0 (<span style='color: red;'>+0.8825%</span>)</td><td>15143278596.0 (<span style='color: red;'>+1.615%</span>)</td><td>15150706743.0 (<span style='color: red;'>+1.665%</span>)</td><td>14943496672.0 (<span style='color: red;'>+0.2746%</span>)</td><td>15136977206.0 (<span style='color: red;'>+1.573%</span>)</td><td>15002529179.0 (<span style='color: red;'>+0.6707%</span>)</td><td>14957074660.0 (<span style='color: red;'>+0.3657%</span>)</td><td>15027648295.0 (<span style='color: red;'>+0.8392%</span>)</td><td>15108635791.0 (<span style='color: red;'>+1.383%</span>)</td><td></td></tr><tr><td rowspan=\"2\">bfdoipra2</td><td>L1-dcache-loads</td><td>29458922797.0 (<span style='color: red;'>+0.7615%</span>)</td><td>29146197116.0 (<span style='color: green;'>-0.3081%</span>)</td><td>29415670864.0 (<span style='color: red;'>+0.6136%</span>)</td><td>29781157159.0 (<span style='color: red;'>+1.864%</span>)</td><td>29269911557.0 (<span style='color: red;'>+0.1151%</span>)</td><td>29399386617.0 (<span style='color: red;'>+0.5579%</span>)</td><td>29493696121.0 (<span style='color: red;'>+0.8805%</span>)</td><td>29385426535.0 (<span style='color: red;'>+0.5102%</span>)</td><td>29456613846.0 (<span style='color: red;'>+0.7537%</span>)</td><td></td></tr><tr><td>L1-dcache-stores</td><td>14962113057.0 (<span style='color: red;'>+0.3995%</span>)</td><td>14916162856.0 (<span style='color: red;'>+0.09115%</span>)</td><td>15003208903.0 (<span style='color: red;'>+0.6753%</span>)</td><td>15207986410.0 (<span style='color: red;'>+2.049%</span>)</td><td>15023185546.0 (<span style='color: red;'>+0.8093%</span>)</td><td>14999319284.0 (<span style='color: red;'>+0.6492%</span>)</td><td>14925253546.0 (<span style='color: red;'>+0.1522%</span>)</td><td>15058442700.0 (<span style='color: red;'>+1.046%</span>)</td><td>14918856833.0 (<span style='color: red;'>+0.1092%</span>)</td><td></td></tr><tr><td rowspan=\"2\">fdoipra3</td><td>L1-dcache-loads</td><td>29344324937.0 (<span style='color: red;'>+0.3696%</span>)</td><td>29537057144.0 (<span style='color: red;'>+1.029%</span>)</td><td>29553331657.0 (<span style='color: red;'>+1.084%</span>)</td><td>29619335224.0 (<span style='color: red;'>+1.31%</span>)</td><td>29508323911.0 (<span style='color: red;'>+0.9305%</span>)</td><td>29394127751.0 (<span style='color: red;'>+0.5399%</span>)</td><td>29313701891.0 (<span style='color: red;'>+0.2648%</span>)</td><td>29705767181.0 (<span style='color: red;'>+1.606%</span>)</td><td>29388440173.0 (<span style='color: red;'>+0.5205%</span>)</td><td></td></tr><tr><td>L1-dcache-stores</td><td>15038113863.0 (<span style='color: red;'>+0.9095%</span>)</td><td>15030327867.0 (<span style='color: red;'>+0.8572%</span>)</td><td>15038932377.0 (<span style='color: red;'>+0.915%</span>)</td><td>15094548389.0 (<span style='color: red;'>+1.288%</span>)</td><td>15089499760.0 (<span style='color: red;'>+1.254%</span>)</td><td>15049350916.0 (<span style='color: red;'>+0.9849%</span>)</td><td>14919408561.0 (<span style='color: red;'>+0.1129%</span>)</td><td>15066083734.0 (<span style='color: red;'>+1.097%</span>)</td><td>15073638181.0 (<span style='color: red;'>+1.148%</span>)</td><td></td></tr><tr><td rowspan=\"2\">bfdoipra3</td><td>L1-dcache-loads</td><td>29445450722.0 (<span style='color: red;'>+0.7155%</span>)</td><td>29483347684.0 (<span style='color: red;'>+0.8451%</span>)</td><td>29368280590.0 (<span style='color: red;'>+0.4515%</span>)</td><td>29269447053.0 (<span style='color: red;'>+0.1135%</span>)</td><td>29482976338.0 (<span style='color: red;'>+0.8438%</span>)</td><td>29261592016.0 (<span style='color: red;'>+0.0866%</span>)</td><td>29621956410.0 (<span style='color: red;'>+1.319%</span>)</td><td>29397303676.0 (<span style='color: red;'>+0.5508%</span>)</td><td>29723481345.0 (<span style='color: red;'>+1.666%</span>)</td><td></td></tr><tr><td>L1-dcache-stores</td><td>15008789379.0 (<span style='color: red;'>+0.7127%</span>)</td><td>14978239932.0 (<span style='color: red;'>+0.5077%</span>)</td><td>14948858941.0 (<span style='color: red;'>+0.3105%</span>)</td><td>15075721838.0 (<span style='color: red;'>+1.162%</span>)</td><td>14973517300.0 (<span style='color: red;'>+0.476%</span>)</td><td>14976549403.0 (<span style='color: red;'>+0.4964%</span>)</td><td>15171632625.0 (<span style='color: red;'>+1.805%</span>)</td><td>14920963019.0 (<span style='color: red;'>+0.1234%</span>)</td><td>15240495670.0 (<span style='color: red;'>+2.268%</span>)</td><td></td></tr><tr><td rowspan=\"2\">fdoipra4</td><td>L1-dcache-loads</td><td>29288307670.0 (<span style='color: red;'>+0.178%</span>)</td><td>29493477534.0 (<span style='color: red;'>+0.8797%</span>)</td><td>29445939013.0 (<span style='color: red;'>+0.7171%</span>)</td><td>29338406195.0 (<span style='color: red;'>+0.3493%</span>)</td><td>29318839979.0 (<span style='color: red;'>+0.2824%</span>)</td><td>29689557248.0 (<span style='color: red;'>+1.55%</span>)</td><td>29670804266.0 (<span style='color: red;'>+1.486%</span>)</td><td>29394798472.0 (<span style='color: red;'>+0.5422%</span>)</td><td>29491794839.0 (<span style='color: red;'>+0.874%</span>)</td><td></td></tr><tr><td>L1-dcache-stores</td><td>15001725307.0 (<span style='color: red;'>+0.6653%</span>)</td><td>15086706920.0 (<span style='color: red;'>+1.236%</span>)</td><td>15022611652.0 (<span style='color: red;'>+0.8054%</span>)</td><td>15021410138.0 (<span style='color: red;'>+0.7974%</span>)</td><td>15021951491.0 (<span style='color: red;'>+0.801%</span>)</td><td>15122826470.0 (<span style='color: red;'>+1.478%</span>)</td><td>15139373744.0 (<span style='color: red;'>+1.589%</span>)</td><td>15019531567.0 (<span style='color: red;'>+0.7848%</span>)</td><td>15034982067.0 (<span style='color: red;'>+0.8885%</span>)</td><td></td></tr><tr><td rowspan=\"2\">bfdoipra4</td><td>L1-dcache-loads</td><td>29352330404.0 (<span style='color: red;'>+0.397%</span>)</td><td>29291487986.0 (<span style='color: red;'>+0.1889%</span>)</td><td>29303102759.0 (<span style='color: red;'>+0.2286%</span>)</td><td>29426497612.0 (<span style='color: red;'>+0.6506%</span>)</td><td>29288177388.0 (<span style='color: red;'>+0.1775%</span>)</td><td>29531073554.0 (<span style='color: red;'>+1.008%</span>)</td><td>29411561666.0 (<span style='color: red;'>+0.5996%</span>)</td><td>29333571817.0 (<span style='color: red;'>+0.3328%</span>)</td><td>29753870967.0 (<span style='color: red;'>+1.77%</span>)</td><td></td></tr><tr><td>L1-dcache-stores</td><td>15036796820.0 (<span style='color: red;'>+0.9006%</span>)</td><td>15008387197.0 (<span style='color: red;'>+0.71%</span>)</td><td>14892922998.0 (<span style='color: green;'>-0.06479%</span>)</td><td>14937247754.0 (<span style='color: red;'>+0.2326%</span>)</td><td>15028896638.0 (<span style='color: red;'>+0.8476%</span>)</td><td>15108297605.0 (<span style='color: red;'>+1.38%</span>)</td><td>14979583216.0 (<span style='color: red;'>+0.5167%</span>)</td><td>15031842724.0 (<span style='color: red;'>+0.8674%</span>)</td><td>15150459061.0 (<span style='color: red;'>+1.663%</span>)</td><td></td></tr><tr><td rowspan=\"2\">fdoipra5</td><td>L1-dcache-loads</td><td>29179265305.0 (<span style='color: green;'>-0.195%</span>)</td><td>29361040372.0 (<span style='color: red;'>+0.4268%</span>)</td><td>29313421091.0 (<span style='color: red;'>+0.2639%</span>)</td><td>29454464045.0 (<span style='color: red;'>+0.7463%</span>)</td><td>29610924231.0 (<span style='color: red;'>+1.281%</span>)</td><td>29458649271.0 (<span style='color: red;'>+0.7606%</span>)</td><td>29363227974.0 (<span style='color: red;'>+0.4342%</span>)</td><td>29738073926.0 (<span style='color: red;'>+1.716%</span>)</td><td>29329273338.0 (<span style='color: red;'>+0.3181%</span>)</td><td></td></tr><tr><td>L1-dcache-stores</td><td>14838094955.0 (<span style='color: green;'>-0.4327%</span>)</td><td>14992603394.0 (<span style='color: red;'>+0.6041%</span>)</td><td>15001694457.0 (<span style='color: red;'>+0.6651%</span>)</td><td>14932218903.0 (<span style='color: red;'>+0.1989%</span>)</td><td>15225260172.0 (<span style='color: red;'>+2.165%</span>)</td><td>15047081254.0 (<span style='color: red;'>+0.9696%</span>)</td><td>15074556198.0 (<span style='color: red;'>+1.154%</span>)</td><td>15095837899.0 (<span style='color: red;'>+1.297%</span>)</td><td>15003289506.0 (<span style='color: red;'>+0.6758%</span>)</td><td></td></tr><tr><td rowspan=\"2\">bfdoipra5</td><td>L1-dcache-loads</td><td>29490100099.0 (<span style='color: red;'>+0.8682%</span>)</td><td>29366733691.0 (<span style='color: red;'>+0.4462%</span>)</td><td>29449364496.0 (<span style='color: red;'>+0.7289%</span>)</td><td>29363966686.0 (<span style='color: red;'>+0.4368%</span>)</td><td>29395099589.0 (<span style='color: red;'>+0.5432%</span>)</td><td>29587932296.0 (<span style='color: red;'>+1.203%</span>)</td><td>29410428836.0 (<span style='color: red;'>+0.5957%</span>)</td><td>29378605665.0 (<span style='color: red;'>+0.4868%</span>)</td><td>29330615557.0 (<span style='color: red;'>+0.3227%</span>)</td><td></td></tr><tr><td>L1-dcache-stores</td><td>15023839065.0 (<span style='color: red;'>+0.8137%</span>)</td><td>14949596212.0 (<span style='color: red;'>+0.3155%</span>)</td><td>15073895253.0 (<span style='color: red;'>+1.15%</span>)</td><td>15082397983.0 (<span style='color: red;'>+1.207%</span>)</td><td>14947915157.0 (<span style='color: red;'>+0.3042%</span>)</td><td>15066655812.0 (<span style='color: red;'>+1.101%</span>)</td><td>14988672545.0 (<span style='color: red;'>+0.5777%</span>)</td><td>15051998168.0 (<span style='color: red;'>+1.003%</span>)</td><td>15061850764.0 (<span style='color: red;'>+1.069%</span>)</td><td></td></tr><tr><td rowspan=\"2\">fdoipra6</td><td>L1-dcache-loads</td><td>29477584255.0 (<span style='color: red;'>+0.8254%</span>)</td><td>29299972758.0 (<span style='color: red;'>+0.2179%</span>)</td><td></td><td>29421502654.0 (<span style='color: red;'>+0.6336%</span>)</td><td></td><td>29536820675.0 (<span style='color: red;'>+1.028%</span>)</td><td></td><td>29461414085.0 (<span style='color: red;'>+0.7701%</span>)</td><td></td><td></td></tr><tr><td>L1-dcache-stores</td><td>14945334124.0 (<span style='color: red;'>+0.2869%</span>)</td><td>15022588660.0 (<span style='color: red;'>+0.8053%</span>)</td><td></td><td>15017277458.0 (<span style='color: red;'>+0.7697%</span>)</td><td></td><td>15029234222.0 (<span style='color: red;'>+0.8499%</span>)</td><td></td><td>15053064228.0 (<span style='color: red;'>+1.01%</span>)</td><td></td><td></td></tr><tr><td rowspan=\"2\">bfdoipra6</td><td>L1-dcache-loads</td><td></td><td></td><td></td><td></td><td></td><td></td><td></td><td></td><td></td><td></td></tr><tr><td>L1-dcache-stores</td><td></td><td></td><td></td><td></td><td></td><td></td><td></td><td></td><td></td><td></td></tr></table>"
      ],
      "text/plain": [
       "<IPython.core.display.HTML object>"
      ]
     },
     "metadata": {},
     "output_type": "display_data"
    }
   ],
   "source": [
    "show_regprof_summary(\"Cache Loads/Stores\", ['L1-dcache-loads', 'L1-dcache-stores'])\n",
    "\n",
    "for bench in Benchmarks:\n",
    "    show_regprof(bench, ['L1-dcache-loads', 'L1-dcache-stores'])"
   ]
  },
  {
   "cell_type": "code",
   "execution_count": 41,
   "metadata": {
    "vscode": {
     "languageId": "python"
    }
   },
   "outputs": [
    {
     "data": {
      "text/html": [
       "<table><h2>ICache Miss Rate</h2><tr><th></th><th></th><th>leveldb</th></tr><tr><td>pgo-full</td><td>L1-icache-miss</td><td></td></tr><tr><td>pgo-full-ipra</td><td>L1-icache-miss</td><td></td></tr><tr><td>pgo-full-fdoipra</td><td>L1-icache-miss</td><td></td></tr><tr><td>pgo-full-bfdoipra</td><td>L1-icache-miss</td><td></td></tr><tr><td>pgo-full-fdoipra2</td><td>L1-icache-miss</td><td></td></tr><tr><td>pgo-full-bfdoipra2</td><td>L1-icache-miss</td><td></td></tr><tr><td>pgo-full-fdoipra3</td><td>L1-icache-miss</td><td></td></tr><tr><td>pgo-full-bfdoipra3</td><td>L1-icache-miss</td><td></td></tr><tr><td>pgo-full-fdoipra4</td><td>L1-icache-miss</td><td></td></tr><tr><td>pgo-full-bfdoipra4</td><td>L1-icache-miss</td><td></td></tr><tr><td>pgo-full-fdoipra5</td><td>L1-icache-miss</td><td></td></tr><tr><td>pgo-full-bfdoipra5</td><td>L1-icache-miss</td><td></td></tr><tr><td>pgo-full-fdoipra6</td><td>L1-icache-miss</td><td></td></tr><tr><td>pgo-full-bfdoipra6</td><td>L1-icache-miss</td><td></td></tr></table>"
      ],
      "text/plain": [
       "<IPython.core.display.HTML object>"
      ]
     },
     "metadata": {},
     "output_type": "display_data"
    },
    {
     "data": {
      "text/html": [
       "<table><h2>leveldb</h2><tr><th></th><th></th><th>none</th><th>1-10</th><th>1-20</th><th>3-10</th><th>3-20</th><th>5-10</th><th>5-20</th><th>10-10</th><th>10-20</th><th>best</th></tr><tr><td>fdoipra</td><td>L1-icache-miss</td><td>1766739331.0 (<span style='color: red;'>+0.8183%</span>)</td><td>1785864572.0 (<span style='color: red;'>+1.91%</span>)</td><td>1757889074.0 (<span style='color: red;'>+0.3133%</span>)</td><td>1752293790.0 (<span style='color: green;'>-0.006029%</span>)</td><td>1761246950.0 (<span style='color: red;'>+0.5049%</span>)</td><td>1764555109.0 (<span style='color: red;'>+0.6937%</span>)</td><td>1742059461.0 (<span style='color: green;'>-0.59%</span>)</td><td>1761991811.0 (<span style='color: red;'>+0.5474%</span>)</td><td>1845407516.0 (<span style='color: red;'>+5.307%</span>)</td><td></td></tr><tr><td>bfdoipra</td><td>L1-icache-miss</td><td>1757593023.0 (<span style='color: red;'>+0.2964%</span>)</td><td>1757309702.0 (<span style='color: red;'>+0.2802%</span>)</td><td>1738301959.0 (<span style='color: green;'>-0.8045%</span>)</td><td>1703112426.0 (<span style='color: green;'>-2.813%</span>)</td><td>1733847152.0 (<span style='color: green;'>-1.059%</span>)</td><td>1731589365.0 (<span style='color: green;'>-1.188%</span>)</td><td>1757218602.0 (<span style='color: red;'>+0.275%</span>)</td><td>1752563643.0 (<span style='color: red;'>+0.00937%</span>)</td><td>1761797236.0 (<span style='color: red;'>+0.5363%</span>)</td><td></td></tr><tr><td>fdoipra2</td><td>L1-icache-miss</td><td>1749360723.0 (<span style='color: green;'>-0.1734%</span>)</td><td>1752298108.0 (<span style='color: green;'>-0.005783%</span>)</td><td>1794713757.0 (<span style='color: red;'>+2.415%</span>)</td><td>1744171520.0 (<span style='color: green;'>-0.4695%</span>)</td><td>1779691751.0 (<span style='color: red;'>+1.557%</span>)</td><td>1752137429.0 (<span style='color: green;'>-0.01495%</span>)</td><td>1918148881.0 (<span style='color: red;'>+9.458%</span>)</td><td>1750172779.0 (<span style='color: green;'>-0.1271%</span>)</td><td>1776016687.0 (<span style='color: red;'>+1.348%</span>)</td><td></td></tr><tr><td>bfdoipra2</td><td>L1-icache-miss</td><td>1761085777.0 (<span style='color: red;'>+0.4957%</span>)</td><td>1752421982.0 (<span style='color: red;'>+0.001286%</span>)</td><td>1741120231.0 (<span style='color: green;'>-0.6436%</span>)</td><td>1907425985.0 (<span style='color: red;'>+8.847%</span>)</td><td>1751369455.0 (<span style='color: green;'>-0.05878%</span>)</td><td>1743311708.0 (<span style='color: green;'>-0.5186%</span>)</td><td>2015582669.0 (<span style='color: red;'>+15.02%</span>)</td><td>1738527516.0 (<span style='color: green;'>-0.7916%</span>)</td><td>1739288468.0 (<span style='color: green;'>-0.7482%</span>)</td><td></td></tr><tr><td>fdoipra3</td><td>L1-icache-miss</td><td>1797040207.0 (<span style='color: red;'>+2.547%</span>)</td><td>1846966889.0 (<span style='color: red;'>+5.396%</span>)</td><td>1806984004.0 (<span style='color: red;'>+3.115%</span>)</td><td>1800491219.0 (<span style='color: red;'>+2.744%</span>)</td><td>1810875648.0 (<span style='color: red;'>+3.337%</span>)</td><td>1891193745.0 (<span style='color: red;'>+7.92%</span>)</td><td>1816824748.0 (<span style='color: red;'>+3.676%</span>)</td><td>1881151161.0 (<span style='color: red;'>+7.347%</span>)</td><td>1846361093.0 (<span style='color: red;'>+5.362%</span>)</td><td></td></tr><tr><td>bfdoipra3</td><td>L1-icache-miss</td><td>1829399197.0 (<span style='color: red;'>+4.394%</span>)</td><td>1799366768.0 (<span style='color: red;'>+2.68%</span>)</td><td>1838030753.0 (<span style='color: red;'>+4.887%</span>)</td><td>1841685541.0 (<span style='color: red;'>+5.095%</span>)</td><td>1786168569.0 (<span style='color: red;'>+1.927%</span>)</td><td>1810726241.0 (<span style='color: red;'>+3.328%</span>)</td><td>1776827531.0 (<span style='color: red;'>+1.394%</span>)</td><td>1792680082.0 (<span style='color: red;'>+2.299%</span>)</td><td>1874503201.0 (<span style='color: red;'>+6.968%</span>)</td><td></td></tr><tr><td>fdoipra4</td><td>L1-icache-miss</td><td>1777521538.0 (<span style='color: red;'>+1.434%</span>)</td><td>1758704835.0 (<span style='color: red;'>+0.3598%</span>)</td><td>1785221800.0 (<span style='color: red;'>+1.873%</span>)</td><td>1739769072.0 (<span style='color: green;'>-0.7207%</span>)</td><td>1744805786.0 (<span style='color: green;'>-0.4333%</span>)</td><td>1735028569.0 (<span style='color: green;'>-0.9913%</span>)</td><td>1772681594.0 (<span style='color: red;'>+1.157%</span>)</td><td>1784271035.0 (<span style='color: red;'>+1.819%</span>)</td><td>1915545091.0 (<span style='color: red;'>+9.31%</span>)</td><td></td></tr><tr><td>bfdoipra4</td><td>L1-icache-miss</td><td>1766366464.0 (<span style='color: red;'>+0.797%</span>)</td><td>1737331426.0 (<span style='color: green;'>-0.8599%</span>)</td><td>1740829019.0 (<span style='color: green;'>-0.6603%</span>)</td><td>1852995549.0 (<span style='color: red;'>+5.74%</span>)</td><td>1790143988.0 (<span style='color: red;'>+2.154%</span>)</td><td>1760968537.0 (<span style='color: red;'>+0.489%</span>)</td><td>1759919537.0 (<span style='color: red;'>+0.4291%</span>)</td><td>1735945327.0 (<span style='color: green;'>-0.9389%</span>)</td><td>1782320512.0 (<span style='color: red;'>+1.707%</span>)</td><td></td></tr><tr><td>fdoipra5</td><td>L1-icache-miss</td><td>1865498877.0 (<span style='color: red;'>+6.454%</span>)</td><td>1866900294.0 (<span style='color: red;'>+6.534%</span>)</td><td>1876565171.0 (<span style='color: red;'>+7.085%</span>)</td><td>1858765947.0 (<span style='color: red;'>+6.07%</span>)</td><td>1865089341.0 (<span style='color: red;'>+6.431%</span>)</td><td>1962338849.0 (<span style='color: red;'>+11.98%</span>)</td><td>1870914764.0 (<span style='color: red;'>+6.763%</span>)</td><td>1894752967.0 (<span style='color: red;'>+8.123%</span>)</td><td>1884803264.0 (<span style='color: red;'>+7.556%</span>)</td><td></td></tr><tr><td>bfdoipra5</td><td>L1-icache-miss</td><td>1847593709.0 (<span style='color: red;'>+5.432%</span>)</td><td>1865901777.0 (<span style='color: red;'>+6.477%</span>)</td><td>1861117699.0 (<span style='color: red;'>+6.204%</span>)</td><td>1859533213.0 (<span style='color: red;'>+6.114%</span>)</td><td>1879470980.0 (<span style='color: red;'>+7.251%</span>)</td><td>1851589006.0 (<span style='color: red;'>+5.66%</span>)</td><td>1871908900.0 (<span style='color: red;'>+6.82%</span>)</td><td>1854887585.0 (<span style='color: red;'>+5.848%</span>)</td><td>1872354206.0 (<span style='color: red;'>+6.845%</span>)</td><td></td></tr><tr><td>fdoipra6</td><td>L1-icache-miss</td><td>1806330774.0 (<span style='color: red;'>+3.078%</span>)</td><td>1788650676.0 (<span style='color: red;'>+2.069%</span>)</td><td></td><td>1796158100.0 (<span style='color: red;'>+2.497%</span>)</td><td></td><td>1769042438.0 (<span style='color: red;'>+0.9497%</span>)</td><td></td><td>1759418421.0 (<span style='color: red;'>+0.4005%</span>)</td><td></td><td></td></tr><tr><td>bfdoipra6</td><td>L1-icache-miss</td><td></td><td></td><td></td><td></td><td></td><td></td><td></td><td></td><td></td><td></td></tr></table>"
      ],
      "text/plain": [
       "<IPython.core.display.HTML object>"
      ]
     },
     "metadata": {},
     "output_type": "display_data"
    }
   ],
   "source": [
    "show_regprof_summary(\"ICache Miss Rate\", ['L1-icache-miss'])\n",
    "\n",
    "for bench in Benchmarks:\n",
    "    show_regprof(bench, ['L1-icache-miss'])"
   ]
  }
 ],
 "metadata": {
  "kernelspec": {
   "display_name": "Python 3 (ipykernel)",
   "language": "python",
   "name": "python3"
  },
  "vscode": {
   "interpreter": {
    "hash": "916dbcbb3f70747c44a77c7bcd40155683ae19c65e1c03b4aa3499c5328201f1"
   }
  }
 },
 "nbformat": 4,
 "nbformat_minor": 2
}
