{
 "cells": [
  {
   "cell_type": "code",
   "execution_count": null,
   "metadata": {},
   "outputs": [],
   "source": [
    "import os\n",
    "from IPython.display import HTML, display\n",
    "\n",
    "class Benchmark:\n",
    "    def __init__(self, name):\n",
    "        self.name = name\n",
    "        self.field = []\n",
    "        self.results = []\n",
    "    \n",
    "    def load(self, path, cases=['bench', 'regprof3']):\n",
    "        self.field = cases\n",
    "        for case in cases:\n",
    "            result = {}\n",
    "            files = [path+'/'+f for f in os.listdir(path) \n",
    "                        if os.path.isfile(path+'/'+f)]\n",
    "            for file in files:\n",
    "                if file.endswith('.'+case):\n",
    "                    with open(file, 'r') as f:\n",
    "                        _ , name = os.path.split(file)\n",
    "                        result[name] = f.readlines()\n",
    "            self.results.append(result)\n",
    "        return len(self.results) != 0\n",
    "    \n",
    "    def __str__(self) -> str:\n",
    "        s = \"\"\n",
    "        for i in range(len(self.field)):\n",
    "            s += self.field[i]\n",
    "            for j in self.results[i].keys():\n",
    "                s += (\"\\n    \" + j)\n",
    "            s += '\\n'\n",
    "        return s\n",
    "\n",
    "def load_build_folder(build_folder = '../build/benchmarks/'):\n",
    "    \"\"\"Load a build folder and return a list of results\"\"\"\n",
    "    benchmarks = []\n",
    "    build_folder = os.path.abspath(build_folder)\n",
    "    print(build_folder)\n",
    "    folders = [f for f in os.listdir(build_folder) \n",
    "                        if os.path.isdir(f)]    \n",
    "    print(folders)\n",
    "    for folder in folders:\n",
    "        B = Benchmark(folder)\n",
    "        if B.load(build_folder+'/'+folder):\n",
    "            benchmarks.append(B)\n",
    "    return benchmarks\n",
    "\n",
    "def printTable(data, header=None):\n",
    "    def gen_row(row, el='td'):\n",
    "        return '<td>{}</td>'.format('</td><td>'.join(str(_) for _ in row))\n",
    "    display(HTML('<table><tr>{}</tr></table>'.format(\n",
    "        (gen_row(header, 'th') + '</tr><tr>' if header else '') + \n",
    "        '</tr><tr>'.join(\n",
    "            gen_row(row) for row in data)\n",
    "        )\n",
    "    ))\n",
    "\n",
    "Benchmarks = load_build_folder()"
   ]
  },
  {
   "attachments": {},
   "cell_type": "markdown",
   "metadata": {},
   "source": [
    "First, let's show push and pop counts"
   ]
  }
 ],
 "metadata": {
  "kernelspec": {
   "display_name": "Python 3 (ipykernel)",
   "language": "python",
   "name": "python3"
  },
  "language_info": {
   "codemirror_mode": {
    "name": "ipython",
    "version": 3
   },
   "file_extension": ".py",
   "mimetype": "text/x-python",
   "name": "python",
   "nbconvert_exporter": "python",
   "pygments_lexer": "ipython3",
   "version": "3.10.6"
  },
  "vscode": {
   "interpreter": {
    "hash": "916dbcbb3f70747c44a77c7bcd40155683ae19c65e1c03b4aa3499c5328201f1"
   }
  }
 },
 "nbformat": 4,
 "nbformat_minor": 2
}
