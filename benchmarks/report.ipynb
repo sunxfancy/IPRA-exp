{
 "cells": [
  {
   "attachments": {},
   "cell_type": "markdown",
   "metadata": {},
   "source": [
    "## Compute Table"
   ]
  },
  {
   "cell_type": "code",
   "execution_count": null,
   "metadata": {
    "vscode": {
     "languageId": "python"
    }
   },
   "outputs": [],
   "source": [
    "BUILD_DIR = '../build/benchmarks/'\n",
    "BASELINE = 'pgo-full'\n",
    "REG_PROFILE = ['dynamic push', 'dynamic pop', 'dynamic spill', 'dynamic reload']\n",
    "PERF_PROFILE = ['instructions', 'cycles', 'L1-icache-miss', 'L1-dcache-loads', 'L1-dcache-stores', 'time elapsed']\n",
    "VARANT = ['none'] + [\"{}-{}\".format(i, j) for i in [1,3,5,10] for j in [10, 20]]\n",
    "FDOIPRA = [b + 'fdoipra' + (str(i) if i != 1 else \"\") for i in range(1, 7) for b in [\"\", \"b\"]] \n",
    "METHODS = [BASELINE] + ['pgo-full-'+v for v in ['ipra']+FDOIPRA]"
   ]
  },
  {
   "cell_type": "code",
   "execution_count": null,
   "metadata": {
    "vscode": {
     "languageId": "python"
    }
   },
   "outputs": [],
   "source": [
    "import os\n",
    "from IPython.display import HTML, display\n",
    "\n",
    "def load_regprof3(content):\n",
    "    assert(len(content) == 4)\n",
    "    result = {}\n",
    "    for line in content:\n",
    "        if line.startswith('dynamic push: '):\n",
    "            result['dynamic push'] = int(line[14:])\n",
    "        if line.startswith('dynamic pop: '):\n",
    "            result['dynamic pop'] = int(line[13:])\n",
    "        if line.startswith('dynamic spill: '):\n",
    "            result['dynamic spill'] = int(line[15:])\n",
    "        if line.startswith('dynamic reload: '):\n",
    "            result['dynamic reload'] = int(line[16:])\n",
    "    return result\n",
    "\n",
    "def load_bench(content):\n",
    "    def get(line, key):\n",
    "        p = line.find(key)\n",
    "        if p != -1:\n",
    "            q = line.find('( +-')\n",
    "            qe = line[q:].find(')')\n",
    "            return True, line[:p].strip(), line[q+5:qe-1]\n",
    "        return False, None, None\n",
    "    result = {}\n",
    "    for line in content:\n",
    "        for c in PERF_PROFILE:\n",
    "            found, data, error = get(line, c)\n",
    "            if found:\n",
    "                if c == 'time elapsed':\n",
    "                    data = data.split()[0]\n",
    "                result[c] = (float(data), error)\n",
    "    return result\n",
    "\n",
    "class Benchmark:\n",
    "    def __init__(self, name):\n",
    "        self.name = name\n",
    "        self.results = {}\n",
    "        self.best_reg = {}\n",
    "        self.best_bench = {}\n",
    "    \n",
    "    def load(self, path, cases=['bench', 'regprof3']):\n",
    "        self.field = cases\n",
    "        filter = {\n",
    "            'bench': load_bench,\n",
    "            'regprof3': load_regprof3\n",
    "        }\n",
    "        for case in cases:\n",
    "            result = {}\n",
    "            files = [path+'/'+f for f in os.listdir(path) \n",
    "                        if os.path.isfile(path+'/'+f)]\n",
    "            for file in files:\n",
    "                if file.endswith('.'+case):\n",
    "                    with open(file, 'r') as f:\n",
    "                        _ , name = os.path.split(file)\n",
    "                        result[name[:-len(case)-1]] = filter[case](f.readlines())\n",
    "            if len(result) > 0:\n",
    "                self.results[case] = result\n",
    "        return len(self.results) != 0\n",
    "    \n",
    "    def get(self, key, method, var):\n",
    "        def get_value(value):\n",
    "            data, error = None, None\n",
    "            if type(value) is tuple:\n",
    "                data, error = value\n",
    "            else:\n",
    "                data = value\n",
    "            return data, error\n",
    "        try:\n",
    "            index = ''\n",
    "            if key in REG_PROFILE:\n",
    "                index = 'regprof3'\n",
    "            if key in PERF_PROFILE:\n",
    "                index = 'bench'\n",
    "            \n",
    "            if var == 'none':\n",
    "                return get_value(self.results[index][method][key])\n",
    "            return get_value(self.results[index][method+'.'+var][key])\n",
    "        except:\n",
    "            return None, None\n",
    "\n",
    "    def better(self, key, method, var):\n",
    "        base, _ = self.get(key, BASELINE, 'none')\n",
    "        impl, _ = self.get(key, method, var)\n",
    "        if base != None and impl != None:\n",
    "            return (impl - base) * 100 / base\n",
    "        else:\n",
    "            return None\n",
    "\n",
    "    def best(self, key, method):\n",
    "        if key in REG_PROFILE:\n",
    "            if method in self.best_reg:\n",
    "                return self.best_reg[method][key]\n",
    "            data = []\n",
    "            for var in VARANT:\n",
    "                improve = 0\n",
    "                detail = {}\n",
    "                for k in REG_PROFILE:\n",
    "                    if self.better(k, method, var) != None:\n",
    "                        improve += self.better(k, method, var)\n",
    "                        detail[k], _ = self.get(k, method, var)\n",
    "                if len(detail) > 0:\n",
    "                    data.append((improve, detail))\n",
    "            if len(data) == 0:\n",
    "                return None\n",
    "            _, result = min(data)\n",
    "            self.best_reg[method] = result\n",
    "            return self.best_reg[method][key]\n",
    "\n",
    "    def __str__(self) -> str:\n",
    "        s = self.name + ': \\n'\n",
    "        for case, data in self.results.items():\n",
    "            s += case\n",
    "            for j in data.keys():\n",
    "                s += (\"    \" + j)\n",
    "            s += '\\n'\n",
    "        return s\n",
    "\n",
    "def load_build_folder(build_folder = '../build/benchmarks/'):\n",
    "    \"\"\"Load a build folder and return a list of results\"\"\"\n",
    "    benchmarks = []\n",
    "    build_folder = os.path.abspath(build_folder)\n",
    "    print(build_folder)\n",
    "    folders = [f for f in os.listdir(build_folder) \n",
    "                        if os.path.isdir(f)]    \n",
    "    for folder in folders:\n",
    "        B = Benchmark(folder)\n",
    "        if B.load(build_folder+'/'+folder):\n",
    "            benchmarks.append(B)\n",
    "    return benchmarks\n",
    "\n",
    "def printTable(data, header=None, title=None, rowspan=0):\n",
    "    def gen_row(row, el='td'):\n",
    "        gen_row.counter += 1\n",
    "        if gen_row.counter == rowspan:\n",
    "            gen_row.counter = 0\n",
    "        tmp = '<'+el+'{}>{}</'+el+'>' \n",
    "        tmp2 = '</'+el+'><'+el+'>' \n",
    "        return tmp.format(\n",
    "            ' rowspan=\"'+str(rowspan)+'\"' if gen_row.counter==1 else \"\", \n",
    "            tmp2.join(str(_) for _ in row))\n",
    "    gen_row.counter = 0 if header == None else -1\n",
    "    display(HTML('<table><h2>{}</h2><tr>{}</tr></table>'.format(title,\n",
    "        (gen_row(header, 'th') + '</tr><tr>' if header else '') + \n",
    "            '</tr><tr>'.join(gen_row(row) for row in data))\n",
    "    ))\n",
    "\n",
    "Benchmarks = load_build_folder(BUILD_DIR)\n",
    "\n",
    "# for bench in Benchmarks:\n",
    "#     print(bench)\n",
    "\n"
   ]
  },
  {
   "cell_type": "code",
   "execution_count": null,
   "metadata": {
    "vscode": {
     "languageId": "python"
    }
   },
   "outputs": [],
   "source": [
    "\n",
    "def show_regprof(Bench: Benchmark, actions):\n",
    "    data = []\n",
    "    header = VARANT \n",
    "    for case in FDOIPRA:\n",
    "        for action in actions:\n",
    "            row = []\n",
    "            if action == actions[0]:\n",
    "                row.append(case)\n",
    "            row.append(action)\n",
    "            for var in header:\n",
    "                better = Bench.better(action, 'pgo-full-'+case, var)\n",
    "                if better == None:\n",
    "                    row.append('')\n",
    "                    continue\n",
    "                cell, _ = Bench.get(action, 'pgo-full-'+case, var)\n",
    "                row.append(\n",
    "                    \"{} (<span style='color: {};'>{:+.4}%</span>)\".format(\n",
    "                        cell,\n",
    "                        'red' if better >= 0 else 'green',\n",
    "                        better))\n",
    "            cell = Bench.best(action, 'pgo-full-'+case)\n",
    "            base, _ = Bench.get(action, BASELINE, 'none')\n",
    "            if cell==None or base == None:\n",
    "                row.append('')\n",
    "            else:\n",
    "                better = (cell - base) * 100 / base\n",
    "                row.append(\n",
    "                        \"{} (<span style='color: {};'>{:+.4}%</span>)\".format(\n",
    "                            cell, \n",
    "                            'red' if better >= 0 else 'green',\n",
    "                            better))\n",
    "            data.append(row)\n",
    "    printTable(data, ['', ''] + header + ['best'], Bench.name, len(actions))\n",
    "\n",
    "def show_regprof_summary(title, actions):\n",
    "    data = []\n",
    "    header = ['',''] + [Bench.name for Bench in Benchmarks]\n",
    "    for case in METHODS:\n",
    "        for action in actions:\n",
    "            row = []\n",
    "            if action == actions[0]:\n",
    "                row.append(case)\n",
    "            row.append(action)\n",
    "            for Bench in Benchmarks:\n",
    "                cell = Bench.best(action, case)\n",
    "                base, _ = Bench.get(action, BASELINE, 'none')\n",
    "                if cell==None or base == None:\n",
    "                    row.append('')\n",
    "                    continue\n",
    "                better = (cell - base) * 100 / base\n",
    "                row.append(\n",
    "                    \"{} (<span style='color: {};'>{:+.4}%</span>)\".format(\n",
    "                        cell, \n",
    "                        'red' if better >= 0 else 'green',\n",
    "                        better))\n",
    "            data.append(row)\n",
    "    printTable(data, header, title, len(actions))"
   ]
  },
  {
   "attachments": {},
   "cell_type": "markdown",
   "metadata": {},
   "source": [
    "## Push/Pop and Spill/Reload"
   ]
  },
  {
   "cell_type": "code",
   "execution_count": null,
   "metadata": {
    "vscode": {
     "languageId": "python"
    }
   },
   "outputs": [],
   "source": [
    "show_regprof_summary(\"Push and Push Counting\", ['dynamic push', 'dynamic pop'])\n",
    "\n",
    "for bench in Benchmarks:\n",
    "    show_regprof(bench, ['dynamic push', 'dynamic pop'])"
   ]
  },
  {
   "cell_type": "code",
   "execution_count": null,
   "metadata": {
    "vscode": {
     "languageId": "python"
    }
   },
   "outputs": [],
   "source": [
    "show_regprof_summary(\"Spill and Reload Bytes\", ['dynamic spill', 'dynamic reload'])\n",
    "\n",
    "for bench in Benchmarks:\n",
    "    show_regprof(bench, ['dynamic spill', 'dynamic reload'])"
   ]
  },
  {
   "attachments": {},
   "cell_type": "markdown",
   "metadata": {},
   "source": [
    "## Wall Time and Cache Loads/Stores\n",
    "\n"
   ]
  },
  {
   "cell_type": "code",
   "execution_count": null,
   "metadata": {
    "vscode": {
     "languageId": "python"
    }
   },
   "outputs": [],
   "source": [
    "show_regprof_summary(\"Wall Time\", ['time elapsed', 'instructions', 'cycles'])\n",
    "\n",
    "for bench in Benchmarks:\n",
    "    show_regprof(bench, ['time elapsed', 'instructions', 'cycles'])"
   ]
  },
  {
   "cell_type": "code",
   "execution_count": null,
   "metadata": {
    "vscode": {
     "languageId": "python"
    }
   },
   "outputs": [],
   "source": [
    "show_regprof_summary(\"Cache Loads/Stores\", ['L1-dcache-loads', 'L1-dcache-stores'])\n",
    "\n",
    "for bench in Benchmarks:\n",
    "    show_regprof(bench, ['L1-dcache-loads', 'L1-dcache-stores'])"
   ]
  },
  {
   "cell_type": "code",
   "execution_count": null,
   "metadata": {
    "vscode": {
     "languageId": "python"
    }
   },
   "outputs": [],
   "source": [
    "show_regprof_summary(\"ICache Miss Rate\", ['L1-icache-miss'])\n",
    "\n",
    "for bench in Benchmarks:\n",
    "    show_regprof(bench, ['L1-icache-miss'])"
   ]
  }
 ],
 "metadata": {
  "kernelspec": {
   "display_name": "Python 3 (ipykernel)",
   "language": "python",
   "name": "python3"
  },
  "vscode": {
   "interpreter": {
    "hash": "916dbcbb3f70747c44a77c7bcd40155683ae19c65e1c03b4aa3499c5328201f1"
   }
  }
 },
 "nbformat": 4,
 "nbformat_minor": 2
}
